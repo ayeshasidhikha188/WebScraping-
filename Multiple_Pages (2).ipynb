{
 "cells": [
  {
   "cell_type": "code",
   "execution_count": 1,
   "id": "928734a0",
   "metadata": {},
   "outputs": [],
   "source": [
    "import pandas as pd\n",
    "import re\n",
    "import requests\n",
    "from bs4 import BeautifulSoup"
   ]
  },
  {
   "cell_type": "code",
   "execution_count": 119,
   "id": "26e7710d",
   "metadata": {},
   "outputs": [],
   "source": [
    "url = \"https://www.flipkart.com/search?q=mobiles&otracker=search&otracker1=search&marketplace=FLIPKART&as-show=on&as=off&p%5B%5D=facets.brand%255B%255D%3DNokia\"\n",
    "page = requests.get(url)\n",
    "soup = BeautifulSoup(page.text)\n",
    "\n",
    "p = soup.find_all(\"div\",class_=\"_30jeq3 _1_WHN1\")\n",
    "prices = []\n",
    "for i in p:\n",
    "    prices.append(i.text)\n",
    "    \n",
    "data = soup.find_all(\"div\",class_=\"_4rR01T\")\n",
    "\n",
    "brands = []\n",
    "for i in data:\n",
    "    brands.append(i.text.split()[0])\n",
    "    \n",
    "models = []\n",
    "for i in data:\n",
    "    models.append(i.text.split(\"(\")[0])\n",
    "    \n",
    "colors = []\n",
    "for i in data:\n",
    "    if \"(\" in i.text:\n",
    "        colors.append(i.text.split(\"(\")[1].split(\",\")[0])\n",
    "    else:\n",
    "        colors.append(np.nan)\n",
    "    \n",
    "features = soup.find_all(\"li\",class_=\"rgWa7D\")\n",
    "\n",
    "RAM = []\n",
    "for i in features:\n",
    "    a = i.text\n",
    "    b = re.findall(\"(\\d+)\\s\\w+\\sRAM\",a)\n",
    "    if len(b)>0:\n",
    "        RAM.append(b[0])\n",
    "        \n",
    "ROM = []\n",
    "for i in features:\n",
    "    a = i.text\n",
    "    b = re.findall(\"(\\d+)\\s\\w+\\sROM\",a)\n",
    "    if len(b)>0:\n",
    "        ROM.append(b[0])\n",
    "        \n",
    "ss = []\n",
    "for i in features:\n",
    "    a = i.text\n",
    "    b = re.findall(\"(\\d+\\.\\d+)\\sinch\",a)\n",
    "    if len(b)>0:\n",
    "        ss.append(b[0])\n",
    "        \n",
    "battery = []\n",
    "for i in features:\n",
    "    a = i.text\n",
    "    b = re.findall(\"(\\d+)\\smAh\",a)\n",
    "    if len(b)>0:\n",
    "        battery.append(b[0])"
   ]
  },
  {
   "cell_type": "code",
   "execution_count": 19,
   "id": "4a10046e",
   "metadata": {},
   "outputs": [],
   "source": [
    "d = {\"Brands\":brands,\n",
    "\"Models\":models,\n",
    "\"Color\":colors,\n",
    "\"RAM\":RAM,\n",
    "\"ROM\":ROM,\n",
    "\"Battery\":battery,\n",
    "\"SS\":ss,\n",
    "\"Prices\":prices}\n",
    "df = pd.DataFrame(d)"
   ]
  },
  {
   "cell_type": "code",
   "execution_count": 12,
   "id": "e28b5d37",
   "metadata": {},
   "outputs": [
    {
     "data": {
      "text/plain": [
       "24"
      ]
     },
     "execution_count": 12,
     "metadata": {},
     "output_type": "execute_result"
    }
   ],
   "source": [
    "len(colors)"
   ]
  },
  {
   "cell_type": "code",
   "execution_count": 14,
   "id": "2885fdbb",
   "metadata": {
    "collapsed": true
   },
   "outputs": [
    {
     "data": {
      "text/plain": [
       "['realme',\n",
       " 'Motorola',\n",
       " 'Motorola',\n",
       " 'Motorola',\n",
       " 'POCO',\n",
       " 'vivo',\n",
       " 'vivo',\n",
       " 'vivo',\n",
       " 'vivo',\n",
       " 'vivo',\n",
       " 'vivo',\n",
       " 'vivo',\n",
       " 'vivo',\n",
       " 'vivo',\n",
       " 'Motorola',\n",
       " 'Apple',\n",
       " 'Motorola',\n",
       " 'Motorola',\n",
       " 'Motorola',\n",
       " 'realme',\n",
       " 'realme',\n",
       " 'realme',\n",
       " 'Motorola',\n",
       " 'vivo']"
      ]
     },
     "execution_count": 14,
     "metadata": {},
     "output_type": "execute_result"
    }
   ],
   "source": [
    "brands"
   ]
  },
  {
   "cell_type": "code",
   "execution_count": 15,
   "id": "3e62b319",
   "metadata": {},
   "outputs": [],
   "source": [
    "import numpy as np\n",
    "#RAM.insert(15,np.nan)"
   ]
  },
  {
   "cell_type": "code",
   "execution_count": 16,
   "id": "26f449aa",
   "metadata": {},
   "outputs": [],
   "source": [
    "#battery.insert(15,np.nan)"
   ]
  },
  {
   "cell_type": "code",
   "execution_count": 17,
   "id": "7ee1af0a",
   "metadata": {},
   "outputs": [
    {
     "data": {
      "text/plain": [
       "24"
      ]
     },
     "execution_count": 17,
     "metadata": {},
     "output_type": "execute_result"
    }
   ],
   "source": [
    "len(RAM)"
   ]
  },
  {
   "cell_type": "code",
   "execution_count": 18,
   "id": "998a8cc6",
   "metadata": {},
   "outputs": [
    {
     "data": {
      "text/plain": [
       "24"
      ]
     },
     "execution_count": 18,
     "metadata": {},
     "output_type": "execute_result"
    }
   ],
   "source": [
    "len(battery)"
   ]
  },
  {
   "cell_type": "code",
   "execution_count": 20,
   "id": "dbc60c4c",
   "metadata": {
    "collapsed": true
   },
   "outputs": [
    {
     "data": {
      "text/html": [
       "<div>\n",
       "<style scoped>\n",
       "    .dataframe tbody tr th:only-of-type {\n",
       "        vertical-align: middle;\n",
       "    }\n",
       "\n",
       "    .dataframe tbody tr th {\n",
       "        vertical-align: top;\n",
       "    }\n",
       "\n",
       "    .dataframe thead th {\n",
       "        text-align: right;\n",
       "    }\n",
       "</style>\n",
       "<table border=\"1\" class=\"dataframe\">\n",
       "  <thead>\n",
       "    <tr style=\"text-align: right;\">\n",
       "      <th></th>\n",
       "      <th>Brands</th>\n",
       "      <th>Models</th>\n",
       "      <th>Color</th>\n",
       "      <th>RAM</th>\n",
       "      <th>ROM</th>\n",
       "      <th>Battery</th>\n",
       "      <th>SS</th>\n",
       "      <th>Prices</th>\n",
       "    </tr>\n",
       "  </thead>\n",
       "  <tbody>\n",
       "    <tr>\n",
       "      <th>0</th>\n",
       "      <td>realme</td>\n",
       "      <td>realme C67 5G</td>\n",
       "      <td>Sunny Oasis</td>\n",
       "      <td>4</td>\n",
       "      <td>128</td>\n",
       "      <td>5000</td>\n",
       "      <td>6.72</td>\n",
       "      <td>₹12,999</td>\n",
       "    </tr>\n",
       "    <tr>\n",
       "      <th>1</th>\n",
       "      <td>Motorola</td>\n",
       "      <td>Motorola G34 5G</td>\n",
       "      <td>Ocean Green</td>\n",
       "      <td>4</td>\n",
       "      <td>128</td>\n",
       "      <td>5000</td>\n",
       "      <td>6.5</td>\n",
       "      <td>₹10,999</td>\n",
       "    </tr>\n",
       "    <tr>\n",
       "      <th>2</th>\n",
       "      <td>Motorola</td>\n",
       "      <td>Motorola G34 5G</td>\n",
       "      <td>Ocean Green</td>\n",
       "      <td>8</td>\n",
       "      <td>128</td>\n",
       "      <td>5000</td>\n",
       "      <td>6.5</td>\n",
       "      <td>₹11,999</td>\n",
       "    </tr>\n",
       "    <tr>\n",
       "      <th>3</th>\n",
       "      <td>Motorola</td>\n",
       "      <td>Motorola G34 5G</td>\n",
       "      <td>Ice Blue</td>\n",
       "      <td>8</td>\n",
       "      <td>128</td>\n",
       "      <td>5000</td>\n",
       "      <td>6.5</td>\n",
       "      <td>₹11,999</td>\n",
       "    </tr>\n",
       "    <tr>\n",
       "      <th>4</th>\n",
       "      <td>POCO</td>\n",
       "      <td>POCO C51</td>\n",
       "      <td>Royal Blue</td>\n",
       "      <td>4</td>\n",
       "      <td>64</td>\n",
       "      <td>5000</td>\n",
       "      <td>6.52</td>\n",
       "      <td>₹5,499</td>\n",
       "    </tr>\n",
       "    <tr>\n",
       "      <th>5</th>\n",
       "      <td>vivo</td>\n",
       "      <td>vivo T2x 5G</td>\n",
       "      <td>Glimmer Black</td>\n",
       "      <td>6</td>\n",
       "      <td>128</td>\n",
       "      <td>5000</td>\n",
       "      <td>6.58</td>\n",
       "      <td>₹12,999</td>\n",
       "    </tr>\n",
       "    <tr>\n",
       "      <th>6</th>\n",
       "      <td>vivo</td>\n",
       "      <td>vivo T2x 5G</td>\n",
       "      <td>Aurora Gold</td>\n",
       "      <td>6</td>\n",
       "      <td>128</td>\n",
       "      <td>5000</td>\n",
       "      <td>6.58</td>\n",
       "      <td>₹12,999</td>\n",
       "    </tr>\n",
       "    <tr>\n",
       "      <th>7</th>\n",
       "      <td>vivo</td>\n",
       "      <td>vivo T2x 5G</td>\n",
       "      <td>Marine Blue</td>\n",
       "      <td>6</td>\n",
       "      <td>128</td>\n",
       "      <td>5000</td>\n",
       "      <td>6.58</td>\n",
       "      <td>₹12,999</td>\n",
       "    </tr>\n",
       "    <tr>\n",
       "      <th>8</th>\n",
       "      <td>vivo</td>\n",
       "      <td>vivo T2x 5G</td>\n",
       "      <td>Aurora Gold</td>\n",
       "      <td>8</td>\n",
       "      <td>128</td>\n",
       "      <td>5000</td>\n",
       "      <td>6.58</td>\n",
       "      <td>₹14,999</td>\n",
       "    </tr>\n",
       "    <tr>\n",
       "      <th>9</th>\n",
       "      <td>vivo</td>\n",
       "      <td>vivo T2x 5G</td>\n",
       "      <td>Marine Blue</td>\n",
       "      <td>8</td>\n",
       "      <td>128</td>\n",
       "      <td>5000</td>\n",
       "      <td>6.58</td>\n",
       "      <td>₹14,999</td>\n",
       "    </tr>\n",
       "    <tr>\n",
       "      <th>10</th>\n",
       "      <td>vivo</td>\n",
       "      <td>vivo T2x 5G</td>\n",
       "      <td>Marine Blue</td>\n",
       "      <td>4</td>\n",
       "      <td>128</td>\n",
       "      <td>5000</td>\n",
       "      <td>6.58</td>\n",
       "      <td>₹11,999</td>\n",
       "    </tr>\n",
       "    <tr>\n",
       "      <th>11</th>\n",
       "      <td>vivo</td>\n",
       "      <td>vivo T2x 5G</td>\n",
       "      <td>Aurora Gold</td>\n",
       "      <td>4</td>\n",
       "      <td>128</td>\n",
       "      <td>5000</td>\n",
       "      <td>6.58</td>\n",
       "      <td>₹11,999</td>\n",
       "    </tr>\n",
       "    <tr>\n",
       "      <th>12</th>\n",
       "      <td>vivo</td>\n",
       "      <td>vivo T2x 5G</td>\n",
       "      <td>Glimmer Black</td>\n",
       "      <td>4</td>\n",
       "      <td>128</td>\n",
       "      <td>5000</td>\n",
       "      <td>6.58</td>\n",
       "      <td>₹11,999</td>\n",
       "    </tr>\n",
       "    <tr>\n",
       "      <th>13</th>\n",
       "      <td>vivo</td>\n",
       "      <td>vivo T2x 5G</td>\n",
       "      <td>Glimmer Black</td>\n",
       "      <td>8</td>\n",
       "      <td>128</td>\n",
       "      <td>5000</td>\n",
       "      <td>6.58</td>\n",
       "      <td>₹14,999</td>\n",
       "    </tr>\n",
       "    <tr>\n",
       "      <th>14</th>\n",
       "      <td>Motorola</td>\n",
       "      <td>Motorola g54 5G</td>\n",
       "      <td>Pearl Blue</td>\n",
       "      <td>8</td>\n",
       "      <td>128</td>\n",
       "      <td>6000</td>\n",
       "      <td>6.5</td>\n",
       "      <td>₹13,999</td>\n",
       "    </tr>\n",
       "    <tr>\n",
       "      <th>15</th>\n",
       "      <td>Apple</td>\n",
       "      <td>Apple iPhone 15</td>\n",
       "      <td>Black</td>\n",
       "      <td>NaN</td>\n",
       "      <td>128</td>\n",
       "      <td>NaN</td>\n",
       "      <td>6.1</td>\n",
       "      <td>₹65,999</td>\n",
       "    </tr>\n",
       "    <tr>\n",
       "      <th>16</th>\n",
       "      <td>Motorola</td>\n",
       "      <td>Motorola g54 5G</td>\n",
       "      <td>Midnight Blue</td>\n",
       "      <td>8</td>\n",
       "      <td>128</td>\n",
       "      <td>6000</td>\n",
       "      <td>6.5</td>\n",
       "      <td>₹13,999</td>\n",
       "    </tr>\n",
       "    <tr>\n",
       "      <th>17</th>\n",
       "      <td>Motorola</td>\n",
       "      <td>Motorola Edge 40 Neo</td>\n",
       "      <td>Soothing Sea</td>\n",
       "      <td>8</td>\n",
       "      <td>128</td>\n",
       "      <td>5000</td>\n",
       "      <td>6.55</td>\n",
       "      <td>₹22,999</td>\n",
       "    </tr>\n",
       "    <tr>\n",
       "      <th>18</th>\n",
       "      <td>Motorola</td>\n",
       "      <td>Motorola g54 5G</td>\n",
       "      <td>Mint Green</td>\n",
       "      <td>8</td>\n",
       "      <td>128</td>\n",
       "      <td>6000</td>\n",
       "      <td>6.5</td>\n",
       "      <td>₹13,999</td>\n",
       "    </tr>\n",
       "    <tr>\n",
       "      <th>19</th>\n",
       "      <td>realme</td>\n",
       "      <td>realme 11x 5G</td>\n",
       "      <td>Midnight Black</td>\n",
       "      <td>8</td>\n",
       "      <td>128</td>\n",
       "      <td>5000</td>\n",
       "      <td>6.72</td>\n",
       "      <td>₹15,999</td>\n",
       "    </tr>\n",
       "    <tr>\n",
       "      <th>20</th>\n",
       "      <td>realme</td>\n",
       "      <td>realme 11x 5G</td>\n",
       "      <td>Midnight Black</td>\n",
       "      <td>6</td>\n",
       "      <td>128</td>\n",
       "      <td>5000</td>\n",
       "      <td>6.72</td>\n",
       "      <td>₹14,999</td>\n",
       "    </tr>\n",
       "    <tr>\n",
       "      <th>21</th>\n",
       "      <td>realme</td>\n",
       "      <td>realme 11x 5G</td>\n",
       "      <td>Purple Dawn</td>\n",
       "      <td>6</td>\n",
       "      <td>128</td>\n",
       "      <td>5000</td>\n",
       "      <td>6.72</td>\n",
       "      <td>₹14,999</td>\n",
       "    </tr>\n",
       "    <tr>\n",
       "      <th>22</th>\n",
       "      <td>Motorola</td>\n",
       "      <td>Motorola G34 5G</td>\n",
       "      <td>Ice Blue</td>\n",
       "      <td>4</td>\n",
       "      <td>128</td>\n",
       "      <td>5000</td>\n",
       "      <td>6.5</td>\n",
       "      <td>₹10,999</td>\n",
       "    </tr>\n",
       "    <tr>\n",
       "      <th>23</th>\n",
       "      <td>vivo</td>\n",
       "      <td>vivo T2 5G</td>\n",
       "      <td>Nitro Blaze</td>\n",
       "      <td>6</td>\n",
       "      <td>128</td>\n",
       "      <td>4500</td>\n",
       "      <td>6.38</td>\n",
       "      <td>₹15,999</td>\n",
       "    </tr>\n",
       "  </tbody>\n",
       "</table>\n",
       "</div>"
      ],
      "text/plain": [
       "      Brands                 Models           Color  RAM  ROM Battery    SS  \\\n",
       "0     realme         realme C67 5G      Sunny Oasis    4  128    5000  6.72   \n",
       "1   Motorola       Motorola G34 5G      Ocean Green    4  128    5000   6.5   \n",
       "2   Motorola       Motorola G34 5G      Ocean Green    8  128    5000   6.5   \n",
       "3   Motorola       Motorola G34 5G         Ice Blue    8  128    5000   6.5   \n",
       "4       POCO              POCO C51       Royal Blue    4   64    5000  6.52   \n",
       "5       vivo           vivo T2x 5G    Glimmer Black    6  128    5000  6.58   \n",
       "6       vivo           vivo T2x 5G      Aurora Gold    6  128    5000  6.58   \n",
       "7       vivo           vivo T2x 5G      Marine Blue    6  128    5000  6.58   \n",
       "8       vivo           vivo T2x 5G      Aurora Gold    8  128    5000  6.58   \n",
       "9       vivo           vivo T2x 5G      Marine Blue    8  128    5000  6.58   \n",
       "10      vivo           vivo T2x 5G      Marine Blue    4  128    5000  6.58   \n",
       "11      vivo           vivo T2x 5G      Aurora Gold    4  128    5000  6.58   \n",
       "12      vivo           vivo T2x 5G    Glimmer Black    4  128    5000  6.58   \n",
       "13      vivo           vivo T2x 5G    Glimmer Black    8  128    5000  6.58   \n",
       "14  Motorola       Motorola g54 5G       Pearl Blue    8  128    6000   6.5   \n",
       "15     Apple       Apple iPhone 15            Black  NaN  128     NaN   6.1   \n",
       "16  Motorola       Motorola g54 5G    Midnight Blue    8  128    6000   6.5   \n",
       "17  Motorola  Motorola Edge 40 Neo     Soothing Sea    8  128    5000  6.55   \n",
       "18  Motorola       Motorola g54 5G       Mint Green    8  128    6000   6.5   \n",
       "19    realme         realme 11x 5G   Midnight Black    8  128    5000  6.72   \n",
       "20    realme         realme 11x 5G   Midnight Black    6  128    5000  6.72   \n",
       "21    realme         realme 11x 5G      Purple Dawn    6  128    5000  6.72   \n",
       "22  Motorola       Motorola G34 5G         Ice Blue    4  128    5000   6.5   \n",
       "23      vivo            vivo T2 5G      Nitro Blaze    6  128    4500  6.38   \n",
       "\n",
       "     Prices  \n",
       "0   ₹12,999  \n",
       "1   ₹10,999  \n",
       "2   ₹11,999  \n",
       "3   ₹11,999  \n",
       "4    ₹5,499  \n",
       "5   ₹12,999  \n",
       "6   ₹12,999  \n",
       "7   ₹12,999  \n",
       "8   ₹14,999  \n",
       "9   ₹14,999  \n",
       "10  ₹11,999  \n",
       "11  ₹11,999  \n",
       "12  ₹11,999  \n",
       "13  ₹14,999  \n",
       "14  ₹13,999  \n",
       "15  ₹65,999  \n",
       "16  ₹13,999  \n",
       "17  ₹22,999  \n",
       "18  ₹13,999  \n",
       "19  ₹15,999  \n",
       "20  ₹14,999  \n",
       "21  ₹14,999  \n",
       "22  ₹10,999  \n",
       "23  ₹15,999  "
      ]
     },
     "execution_count": 20,
     "metadata": {},
     "output_type": "execute_result"
    }
   ],
   "source": [
    "df"
   ]
  },
  {
   "cell_type": "code",
   "execution_count": null,
   "id": "66179b5f",
   "metadata": {},
   "outputs": [],
   "source": [
    "url = \"https://www.flipkart.com/search?q=mobiles&otracker=search&otracker1=search&marketplace=FLIPKART&as-show=on&as=off&page=2\"\n",
    "page = requests.get(url)\n",
    "soup = BeautifulSoup(page.text)\n",
    "\n",
    "p = soup.find_all(\"div\",class_=\"_30jeq3 _1_WHN1\")\n",
    "prices = []\n",
    "for i in p:\n",
    "    prices.append(i.text)\n",
    "    \n",
    "data = soup.find_all(\"div\",class_=\"_4rR01T\")\n",
    "\n",
    "brands = []\n",
    "for i in data:\n",
    "    brands.append(i.text.split()[0])\n",
    "    \n",
    "models = []\n",
    "for i in data:\n",
    "    models.append(i.text.split(\"(\")[0])\n",
    "    \n",
    "colors = []\n",
    "for i in data:\n",
    "    colors.append(i.text.split(\"(\")[1].split(\",\")[0])\n",
    "    \n",
    "features = soup.find_all(\"li\",class_=\"rgWa7D\")\n",
    "\n",
    "RAM = []\n",
    "for i in features:\n",
    "    a = i.text\n",
    "    b = re.findall(\"(\\d+)\\s\\w+\\sRAM\",a)\n",
    "    if len(b)>0:\n",
    "        RAM.append(b[0])\n",
    "        \n",
    "ROM = []\n",
    "for i in features:\n",
    "    a = i.text\n",
    "    b = re.findall(\"(\\d+)\\s\\w+\\sROM\",a)\n",
    "    if len(b)>0:\n",
    "        ROM.append(b[0])\n",
    "        \n",
    "ss = []\n",
    "for i in features:\n",
    "    a = i.text\n",
    "    b = re.findall(\"(\\d+\\.\\d+)\\sinch\",a)\n",
    "    if len(b)>0:\n",
    "        ss.append(b[0])\n",
    "        \n",
    "battery = []\n",
    "for i in features:\n",
    "    a = i.text\n",
    "    b = re.findall(\"(\\d+)\\smAh\",a)\n",
    "    if len(b)>0:\n",
    "        battery.append(b[0])"
   ]
  },
  {
   "cell_type": "code",
   "execution_count": 25,
   "id": "21cfcb10",
   "metadata": {},
   "outputs": [
    {
     "data": {
      "text/plain": [
       "'https://www.flipkart.com/search?q=mobiles&otracker=search&otracker1=search&marketplace=FLIPKART&as-show=on&as=off&page=10'"
      ]
     },
     "execution_count": 25,
     "metadata": {},
     "output_type": "execute_result"
    }
   ],
   "source": [
    "\"\"\"https://www.flipkart.com/search?q=mobiles&otracker=search&otracker1=search&marketplace=FLIPKART&as-show=on&as=off&page=\"\"\"+str(10)"
   ]
  },
  {
   "cell_type": "code",
   "execution_count": 21,
   "id": "e7951a27",
   "metadata": {},
   "outputs": [],
   "source": [
    "urls = [\"\"\"https://www.flipkart.com/search?q=mobiles&otracker=search&otracker1=search&marketplace=\n",
    "FLIPKART&as-show=on&as=off&page=2\"\"\",\n",
    "       \"\"\"https://www.flipkart.com/search?q=mobiles&otracker=search&otracker1=search&marketplace=\n",
    "       FLIPKART&as-show=on&as=off&page=30\"\"\",\n",
    "       \"\"\"https://www.flipkart.com/search?q=mobiles&otracker=search&otracker1=search&marketplace=\n",
    "       FLIPKART&as-show=on&as=off&page=4\"\"\"]"
   ]
  },
  {
   "cell_type": "code",
   "execution_count": 22,
   "id": "444ea284",
   "metadata": {},
   "outputs": [
    {
     "name": "stdout",
     "output_type": "stream",
     "text": [
      "https://www.flipkart.com/search?q=mobiles&otracker=search&otracker1=search&marketplace=\n",
      "FLIPKART&as-show=on&as=off&page=2\n",
      "https://www.flipkart.com/search?q=mobiles&otracker=search&otracker1=search&marketplace=\n",
      "       FLIPKART&as-show=on&as=off&page=3\n",
      "https://www.flipkart.com/search?q=mobiles&otracker=search&otracker1=search&marketplace=\n",
      "       FLIPKART&as-show=on&as=off&page=4\n"
     ]
    }
   ],
   "source": [
    "for i in urls:\n",
    "    print(i)\n",
    "    "
   ]
  },
  {
   "cell_type": "code",
   "execution_count": 42,
   "id": "74fc8797",
   "metadata": {},
   "outputs": [
    {
     "name": "stdout",
     "output_type": "stream",
     "text": [
      "https://www.flipkart.com/search?q=mobiles&otracker=search&otracker1=search&marketplace=FLIPKART&as-show=on&as=off&page=2\n",
      "RAM 24\n",
      "Battery 24\n",
      "https://www.flipkart.com/search?q=mobiles&otracker=search&otracker1=search&marketplace=FLIPKART&as-show=on&as=off&page=3\n",
      "RAM 48\n",
      "Battery 48\n",
      "https://www.flipkart.com/search?q=mobiles&otracker=search&otracker1=search&marketplace=FLIPKART&as-show=on&as=off&page=4\n",
      "RAM 72\n",
      "Battery 72\n",
      "https://www.flipkart.com/search?q=mobiles&otracker=search&otracker1=search&marketplace=FLIPKART&as-show=on&as=off&page=5\n",
      "RAM 95\n",
      "Battery 95\n"
     ]
    }
   ],
   "source": [
    "prices = []\n",
    "brands = []\n",
    "models = []\n",
    "battery = []\n",
    "RAM = []\n",
    "ROM = []\n",
    "ss = []\n",
    "colors = []\n",
    "for i in range(2,6):\n",
    "    print(\"\"\"https://www.flipkart.com/search?q=mobiles&otracker=search&otracker1=search&marketplace=FLIPKART&as-show=on&as=off&page=\"\"\"+str(i))\n",
    "    urls = \"\"\"https://www.flipkart.com/search?q=mobiles&otracker=search&otracker1=search&marketplace=FLIPKART&as-show=on&as=off&page=\"\"\"+str(i)\n",
    "    page = requests.get(url)\n",
    "    soup = BeautifulSoup(page.text)\n",
    "\n",
    "    p = soup.find_all(\"div\",class_=\"_30jeq3 _1_WHN1\")\n",
    "   \n",
    "    for i in p:\n",
    "        prices.append(i.text)\n",
    "\n",
    "    data = soup.find_all(\"div\",class_=\"_4rR01T\")\n",
    "\n",
    "    \n",
    "    for i in data:\n",
    "        brands.append(i.text.split()[0])\n",
    "\n",
    "    \n",
    "    for i in data:\n",
    "        models.append(i.text.split(\"(\")[0])\n",
    "\n",
    "    \n",
    "    for i in data:\n",
    "        colors.append(i.text.split(\"(\")[1].split(\",\")[0])\n",
    "\n",
    "    features = soup.find_all(\"li\",class_=\"rgWa7D\")\n",
    "\n",
    "    \n",
    "    for i in features:\n",
    "        a = i.text\n",
    "        b = re.findall(\"(\\d+)\\s\\w+\\sRAM\",a)\n",
    "        if len(b)>0:\n",
    "            RAM.append(b[0])\n",
    "\n",
    "    \n",
    "    for i in features:\n",
    "        a = i.text\n",
    "        b = re.findall(\"(\\d+)\\s\\w+\\sROM\",a)\n",
    "        if len(b)>0:\n",
    "            ROM.append(b[0])\n",
    "\n",
    "    \n",
    "    for i in features:\n",
    "        a = i.text\n",
    "        b = re.findall(\"(\\d+\\.\\d+)\\sinch\",a)\n",
    "        if len(b)>0:\n",
    "            ss.append(b[0])\n",
    "\n",
    "    \n",
    "    for i in features:\n",
    "        a = i.text\n",
    "        b = re.findall(\"(\\d+)\\smAh\",a)\n",
    "        if len(b)>0:\n",
    "            battery.append(b[0])\n",
    "            \n",
    "    print(\"RAM\",len(RAM))\n",
    "    print(\"Battery\",len(battery))"
   ]
  },
  {
   "cell_type": "code",
   "execution_count": 29,
   "id": "a8882e74",
   "metadata": {},
   "outputs": [
    {
     "data": {
      "text/plain": [
       "96"
      ]
     },
     "execution_count": 29,
     "metadata": {},
     "output_type": "execute_result"
    }
   ],
   "source": [
    "4*24"
   ]
  },
  {
   "cell_type": "code",
   "execution_count": 33,
   "id": "4b072cdf",
   "metadata": {},
   "outputs": [
    {
     "data": {
      "text/plain": [
       "96"
      ]
     },
     "execution_count": 33,
     "metadata": {},
     "output_type": "execute_result"
    }
   ],
   "source": [
    "len(brands)"
   ]
  },
  {
   "cell_type": "code",
   "execution_count": 59,
   "id": "39423420",
   "metadata": {},
   "outputs": [],
   "source": [
    "d = {\"Brands\":brands,\n",
    "\"Models\":models,\n",
    "\"Color\":colors,\n",
    "\"RAM\":RAM,\n",
    "\"ROM\":ROM,\n",
    "\"Battery\":battery,\n",
    "\"SS\":ss,\n",
    "\"Prices\":prices}\n",
    "df2 = pd.DataFrame(d)"
   ]
  },
  {
   "cell_type": "code",
   "execution_count": 55,
   "id": "7aae64bd",
   "metadata": {},
   "outputs": [
    {
     "data": {
      "text/plain": [
       "72"
      ]
     },
     "execution_count": 55,
     "metadata": {},
     "output_type": "execute_result"
    }
   ],
   "source": [
    "len(prices)"
   ]
  },
  {
   "cell_type": "code",
   "execution_count": null,
   "id": "4fd01832",
   "metadata": {},
   "outputs": [],
   "source": []
  },
  {
   "cell_type": "code",
   "execution_count": 43,
   "id": "d09e7ae6",
   "metadata": {},
   "outputs": [
    {
     "data": {
      "text/plain": [
       "['realme',\n",
       " 'vivo',\n",
       " 'vivo',\n",
       " 'vivo',\n",
       " 'vivo',\n",
       " 'vivo',\n",
       " 'vivo',\n",
       " 'POCO',\n",
       " 'vivo',\n",
       " 'Motorola',\n",
       " 'Motorola',\n",
       " 'Motorola',\n",
       " 'vivo',\n",
       " 'vivo',\n",
       " 'vivo',\n",
       " 'POCO',\n",
       " 'vivo',\n",
       " 'POCO',\n",
       " 'OnePlus',\n",
       " 'OnePlus',\n",
       " 'POCO',\n",
       " 'OnePlus',\n",
       " 'POCO',\n",
       " 'OnePlus',\n",
       " 'realme',\n",
       " 'vivo',\n",
       " 'vivo',\n",
       " 'vivo',\n",
       " 'vivo',\n",
       " 'vivo',\n",
       " 'vivo',\n",
       " 'POCO',\n",
       " 'vivo',\n",
       " 'Motorola',\n",
       " 'Motorola',\n",
       " 'Motorola',\n",
       " 'vivo',\n",
       " 'vivo',\n",
       " 'vivo',\n",
       " 'POCO',\n",
       " 'vivo',\n",
       " 'POCO',\n",
       " 'OnePlus',\n",
       " 'OnePlus',\n",
       " 'POCO',\n",
       " 'OnePlus',\n",
       " 'POCO',\n",
       " 'OnePlus',\n",
       " 'realme',\n",
       " 'vivo',\n",
       " 'vivo',\n",
       " 'vivo',\n",
       " 'vivo',\n",
       " 'vivo',\n",
       " 'vivo',\n",
       " 'POCO',\n",
       " 'vivo',\n",
       " 'Motorola',\n",
       " 'Motorola',\n",
       " 'Motorola',\n",
       " 'vivo',\n",
       " 'vivo',\n",
       " 'vivo',\n",
       " 'POCO',\n",
       " 'vivo',\n",
       " 'POCO',\n",
       " 'OnePlus',\n",
       " 'OnePlus',\n",
       " 'POCO',\n",
       " 'OnePlus',\n",
       " 'POCO',\n",
       " 'OnePlus',\n",
       " 'realme',\n",
       " 'Motorola',\n",
       " 'Motorola',\n",
       " 'Motorola',\n",
       " 'POCO',\n",
       " 'vivo',\n",
       " 'vivo',\n",
       " 'vivo',\n",
       " 'vivo',\n",
       " 'vivo',\n",
       " 'vivo',\n",
       " 'vivo',\n",
       " 'vivo',\n",
       " 'vivo',\n",
       " 'Motorola',\n",
       " 'Apple',\n",
       " 'Motorola',\n",
       " 'Motorola',\n",
       " 'Motorola',\n",
       " 'realme',\n",
       " 'realme',\n",
       " 'realme',\n",
       " 'Motorola',\n",
       " 'POCO']"
      ]
     },
     "execution_count": 43,
     "metadata": {},
     "output_type": "execute_result"
    }
   ],
   "source": [
    "brands"
   ]
  },
  {
   "cell_type": "code",
   "execution_count": 44,
   "id": "33082814",
   "metadata": {},
   "outputs": [
    {
     "data": {
      "text/plain": [
       "87"
      ]
     },
     "execution_count": 44,
     "metadata": {},
     "output_type": "execute_result"
    }
   ],
   "source": [
    "brands.index('Apple')"
   ]
  },
  {
   "cell_type": "code",
   "execution_count": 45,
   "id": "02c5bb48",
   "metadata": {},
   "outputs": [],
   "source": [
    "# RAM.insert(87,np.nan)\n",
    "# battery.insert(87,np.nan)"
   ]
  },
  {
   "cell_type": "code",
   "execution_count": 56,
   "id": "998ac4d9",
   "metadata": {},
   "outputs": [
    {
     "name": "stdout",
     "output_type": "stream",
     "text": [
      "https://www.flipkart.com/search?q=mobiles&otracker=search&otracker1=search&marketplace=FLIPKART&as-show=on&as=off&page=2\n",
      "https://www.flipkart.com/search?q=mobiles&otracker=search&otracker1=search&marketplace=FLIPKART&as-show=on&as=off&page=3\n",
      "https://www.flipkart.com/search?q=mobiles&otracker=search&otracker1=search&marketplace=FLIPKART&as-show=on&as=off&page=4\n",
      "https://www.flipkart.com/search?q=mobiles&otracker=search&otracker1=search&marketplace=FLIPKART&as-show=on&as=off&page=5\n"
     ]
    }
   ],
   "source": [
    "prices = []\n",
    "for i in range(2,6):\n",
    "    print(\"\"\"https://www.flipkart.com/search?q=mobiles&otracker=search&otracker1=search&marketplace=FLIPKART&as-show=on&as=off&page=\"\"\"+str(i))\n",
    "    urls = \"\"\"https://www.flipkart.com/search?q=mobiles&otracker=search&otracker1=search&marketplace=FLIPKART&as-show=on&as=off&page=\"\"\"+str(i)\n",
    "    page = requests.get(url)\n",
    "    soup = BeautifulSoup(page.text)\n",
    "\n",
    "    p = soup.find_all(\"div\",class_=\"_30jeq3 _1_WHN1\")\n",
    "   \n",
    "    for i in p:\n",
    "        prices.append(i.text)"
   ]
  },
  {
   "cell_type": "code",
   "execution_count": 58,
   "id": "7c10beb2",
   "metadata": {},
   "outputs": [
    {
     "data": {
      "text/plain": [
       "96"
      ]
     },
     "execution_count": 58,
     "metadata": {},
     "output_type": "execute_result"
    }
   ],
   "source": [
    "len(prices)"
   ]
  },
  {
   "cell_type": "code",
   "execution_count": 60,
   "id": "35946688",
   "metadata": {},
   "outputs": [
    {
     "data": {
      "text/html": [
       "<div>\n",
       "<style scoped>\n",
       "    .dataframe tbody tr th:only-of-type {\n",
       "        vertical-align: middle;\n",
       "    }\n",
       "\n",
       "    .dataframe tbody tr th {\n",
       "        vertical-align: top;\n",
       "    }\n",
       "\n",
       "    .dataframe thead th {\n",
       "        text-align: right;\n",
       "    }\n",
       "</style>\n",
       "<table border=\"1\" class=\"dataframe\">\n",
       "  <thead>\n",
       "    <tr style=\"text-align: right;\">\n",
       "      <th></th>\n",
       "      <th>Brands</th>\n",
       "      <th>Models</th>\n",
       "      <th>Color</th>\n",
       "      <th>RAM</th>\n",
       "      <th>ROM</th>\n",
       "      <th>Battery</th>\n",
       "      <th>SS</th>\n",
       "      <th>Prices</th>\n",
       "    </tr>\n",
       "  </thead>\n",
       "  <tbody>\n",
       "    <tr>\n",
       "      <th>0</th>\n",
       "      <td>realme</td>\n",
       "      <td>realme C67 5G</td>\n",
       "      <td>Sunny Oasis</td>\n",
       "      <td>4</td>\n",
       "      <td>128</td>\n",
       "      <td>5000</td>\n",
       "      <td>6.72</td>\n",
       "      <td>₹12,999</td>\n",
       "    </tr>\n",
       "    <tr>\n",
       "      <th>1</th>\n",
       "      <td>vivo</td>\n",
       "      <td>vivo T2x 5G</td>\n",
       "      <td>Glimmer Black</td>\n",
       "      <td>6</td>\n",
       "      <td>128</td>\n",
       "      <td>5000</td>\n",
       "      <td>6.58</td>\n",
       "      <td>₹10,999</td>\n",
       "    </tr>\n",
       "    <tr>\n",
       "      <th>2</th>\n",
       "      <td>vivo</td>\n",
       "      <td>vivo T2x 5G</td>\n",
       "      <td>Marine Blue</td>\n",
       "      <td>6</td>\n",
       "      <td>128</td>\n",
       "      <td>5000</td>\n",
       "      <td>6.58</td>\n",
       "      <td>₹11,999</td>\n",
       "    </tr>\n",
       "    <tr>\n",
       "      <th>3</th>\n",
       "      <td>vivo</td>\n",
       "      <td>vivo T2x 5G</td>\n",
       "      <td>Aurora Gold</td>\n",
       "      <td>6</td>\n",
       "      <td>128</td>\n",
       "      <td>5000</td>\n",
       "      <td>6.58</td>\n",
       "      <td>₹11,999</td>\n",
       "    </tr>\n",
       "    <tr>\n",
       "      <th>4</th>\n",
       "      <td>vivo</td>\n",
       "      <td>vivo T2x 5G</td>\n",
       "      <td>Marine Blue</td>\n",
       "      <td>4</td>\n",
       "      <td>128</td>\n",
       "      <td>5000</td>\n",
       "      <td>6.58</td>\n",
       "      <td>₹5,499</td>\n",
       "    </tr>\n",
       "    <tr>\n",
       "      <th>...</th>\n",
       "      <td>...</td>\n",
       "      <td>...</td>\n",
       "      <td>...</td>\n",
       "      <td>...</td>\n",
       "      <td>...</td>\n",
       "      <td>...</td>\n",
       "      <td>...</td>\n",
       "      <td>...</td>\n",
       "    </tr>\n",
       "    <tr>\n",
       "      <th>91</th>\n",
       "      <td>realme</td>\n",
       "      <td>realme 11x 5G</td>\n",
       "      <td>Midnight Black</td>\n",
       "      <td>8</td>\n",
       "      <td>128</td>\n",
       "      <td>5000</td>\n",
       "      <td>6.72</td>\n",
       "      <td>₹19,459</td>\n",
       "    </tr>\n",
       "    <tr>\n",
       "      <th>92</th>\n",
       "      <td>realme</td>\n",
       "      <td>realme 11x 5G</td>\n",
       "      <td>Purple Dawn</td>\n",
       "      <td>6</td>\n",
       "      <td>128</td>\n",
       "      <td>5000</td>\n",
       "      <td>6.72</td>\n",
       "      <td>₹6,299</td>\n",
       "    </tr>\n",
       "    <tr>\n",
       "      <th>93</th>\n",
       "      <td>realme</td>\n",
       "      <td>realme 11x 5G</td>\n",
       "      <td>Midnight Black</td>\n",
       "      <td>6</td>\n",
       "      <td>128</td>\n",
       "      <td>5000</td>\n",
       "      <td>6.72</td>\n",
       "      <td>₹19,439</td>\n",
       "    </tr>\n",
       "    <tr>\n",
       "      <th>94</th>\n",
       "      <td>Motorola</td>\n",
       "      <td>Motorola G34 5G</td>\n",
       "      <td>Ice Blue</td>\n",
       "      <td>4</td>\n",
       "      <td>128</td>\n",
       "      <td>5000</td>\n",
       "      <td>6.5</td>\n",
       "      <td>₹7,299</td>\n",
       "    </tr>\n",
       "    <tr>\n",
       "      <th>95</th>\n",
       "      <td>POCO</td>\n",
       "      <td>POCO M6 5G</td>\n",
       "      <td>Orion Blue</td>\n",
       "      <td>6</td>\n",
       "      <td>128</td>\n",
       "      <td>5000</td>\n",
       "      <td>6.74</td>\n",
       "      <td>₹20,868</td>\n",
       "    </tr>\n",
       "  </tbody>\n",
       "</table>\n",
       "<p>96 rows × 8 columns</p>\n",
       "</div>"
      ],
      "text/plain": [
       "      Brands            Models           Color RAM  ROM Battery    SS   Prices\n",
       "0     realme    realme C67 5G      Sunny Oasis   4  128    5000  6.72  ₹12,999\n",
       "1       vivo      vivo T2x 5G    Glimmer Black   6  128    5000  6.58  ₹10,999\n",
       "2       vivo      vivo T2x 5G      Marine Blue   6  128    5000  6.58  ₹11,999\n",
       "3       vivo      vivo T2x 5G      Aurora Gold   6  128    5000  6.58  ₹11,999\n",
       "4       vivo      vivo T2x 5G      Marine Blue   4  128    5000  6.58   ₹5,499\n",
       "..       ...               ...             ...  ..  ...     ...   ...      ...\n",
       "91    realme    realme 11x 5G   Midnight Black   8  128    5000  6.72  ₹19,459\n",
       "92    realme    realme 11x 5G      Purple Dawn   6  128    5000  6.72   ₹6,299\n",
       "93    realme    realme 11x 5G   Midnight Black   6  128    5000  6.72  ₹19,439\n",
       "94  Motorola  Motorola G34 5G         Ice Blue   4  128    5000   6.5   ₹7,299\n",
       "95      POCO       POCO M6 5G       Orion Blue   6  128    5000  6.74  ₹20,868\n",
       "\n",
       "[96 rows x 8 columns]"
      ]
     },
     "execution_count": 60,
     "metadata": {},
     "output_type": "execute_result"
    }
   ],
   "source": [
    "df2"
   ]
  },
  {
   "cell_type": "code",
   "execution_count": 61,
   "id": "32fd676e",
   "metadata": {},
   "outputs": [
    {
     "data": {
      "text/html": [
       "<div>\n",
       "<style scoped>\n",
       "    .dataframe tbody tr th:only-of-type {\n",
       "        vertical-align: middle;\n",
       "    }\n",
       "\n",
       "    .dataframe tbody tr th {\n",
       "        vertical-align: top;\n",
       "    }\n",
       "\n",
       "    .dataframe thead th {\n",
       "        text-align: right;\n",
       "    }\n",
       "</style>\n",
       "<table border=\"1\" class=\"dataframe\">\n",
       "  <thead>\n",
       "    <tr style=\"text-align: right;\">\n",
       "      <th></th>\n",
       "      <th>Unnamed: 0</th>\n",
       "      <th>Brands</th>\n",
       "      <th>Models</th>\n",
       "      <th>Color</th>\n",
       "      <th>RAM</th>\n",
       "      <th>ROM</th>\n",
       "      <th>Battery</th>\n",
       "      <th>SS</th>\n",
       "      <th>Prices</th>\n",
       "    </tr>\n",
       "  </thead>\n",
       "  <tbody>\n",
       "    <tr>\n",
       "      <th>0</th>\n",
       "      <td>0</td>\n",
       "      <td>Motorola</td>\n",
       "      <td>Motorola G34 5G</td>\n",
       "      <td>Ice Blue</td>\n",
       "      <td>8</td>\n",
       "      <td>128</td>\n",
       "      <td>5000</td>\n",
       "      <td>6.50</td>\n",
       "      <td>₹11,999</td>\n",
       "    </tr>\n",
       "    <tr>\n",
       "      <th>1</th>\n",
       "      <td>1</td>\n",
       "      <td>POCO</td>\n",
       "      <td>POCO C51</td>\n",
       "      <td>Royal Blue</td>\n",
       "      <td>4</td>\n",
       "      <td>64</td>\n",
       "      <td>5000</td>\n",
       "      <td>6.52</td>\n",
       "      <td>₹5,499</td>\n",
       "    </tr>\n",
       "    <tr>\n",
       "      <th>2</th>\n",
       "      <td>2</td>\n",
       "      <td>Motorola</td>\n",
       "      <td>Motorola G34 5G</td>\n",
       "      <td>Ocean Green</td>\n",
       "      <td>4</td>\n",
       "      <td>128</td>\n",
       "      <td>5000</td>\n",
       "      <td>6.50</td>\n",
       "      <td>₹10,999</td>\n",
       "    </tr>\n",
       "    <tr>\n",
       "      <th>3</th>\n",
       "      <td>3</td>\n",
       "      <td>Motorola</td>\n",
       "      <td>Motorola G34 5G</td>\n",
       "      <td>Ocean Green</td>\n",
       "      <td>8</td>\n",
       "      <td>128</td>\n",
       "      <td>5000</td>\n",
       "      <td>6.50</td>\n",
       "      <td>₹11,999</td>\n",
       "    </tr>\n",
       "    <tr>\n",
       "      <th>4</th>\n",
       "      <td>4</td>\n",
       "      <td>vivo</td>\n",
       "      <td>vivo T2x 5G</td>\n",
       "      <td>Aurora Gold</td>\n",
       "      <td>6</td>\n",
       "      <td>128</td>\n",
       "      <td>5000</td>\n",
       "      <td>6.58</td>\n",
       "      <td>₹12,999</td>\n",
       "    </tr>\n",
       "  </tbody>\n",
       "</table>\n",
       "</div>"
      ],
      "text/plain": [
       "   Unnamed: 0    Brands            Models        Color  RAM  ROM  Battery  \\\n",
       "0           0  Motorola  Motorola G34 5G      Ice Blue    8  128     5000   \n",
       "1           1      POCO         POCO C51    Royal Blue    4   64     5000   \n",
       "2           2  Motorola  Motorola G34 5G   Ocean Green    4  128     5000   \n",
       "3           3  Motorola  Motorola G34 5G   Ocean Green    8  128     5000   \n",
       "4           4      vivo      vivo T2x 5G   Aurora Gold    6  128     5000   \n",
       "\n",
       "     SS   Prices  \n",
       "0  6.50  ₹11,999  \n",
       "1  6.52   ₹5,499  \n",
       "2  6.50  ₹10,999  \n",
       "3  6.50  ₹11,999  \n",
       "4  6.58  ₹12,999  "
      ]
     },
     "execution_count": 61,
     "metadata": {},
     "output_type": "execute_result"
    }
   ],
   "source": [
    "df3 = pd.read_csv(\"result.csv\")\n",
    "df3.head()"
   ]
  },
  {
   "cell_type": "code",
   "execution_count": 63,
   "id": "ee546fee",
   "metadata": {},
   "outputs": [],
   "source": [
    "df3 = df3.drop('Unnamed: 0',axis=1)"
   ]
  },
  {
   "cell_type": "code",
   "execution_count": 68,
   "id": "0761e2c0",
   "metadata": {},
   "outputs": [],
   "source": [
    "final_df = pd.concat([df,df2,df3],ignore_index=True)"
   ]
  },
  {
   "cell_type": "code",
   "execution_count": 70,
   "id": "20ec04d2",
   "metadata": {},
   "outputs": [],
   "source": [
    "#final_df.to_csv(\"final.csv\")"
   ]
  },
  {
   "cell_type": "markdown",
   "id": "0830b03e",
   "metadata": {},
   "source": [
    "## Data Cleaning"
   ]
  },
  {
   "cell_type": "code",
   "execution_count": 71,
   "id": "b4932661",
   "metadata": {},
   "outputs": [
    {
     "name": "stdout",
     "output_type": "stream",
     "text": [
      "<class 'pandas.core.frame.DataFrame'>\n",
      "RangeIndex: 144 entries, 0 to 143\n",
      "Data columns (total 8 columns):\n",
      " #   Column   Non-Null Count  Dtype \n",
      "---  ------   --------------  ----- \n",
      " 0   Brands   144 non-null    object\n",
      " 1   Models   144 non-null    object\n",
      " 2   Color    144 non-null    object\n",
      " 3   RAM      142 non-null    object\n",
      " 4   ROM      144 non-null    object\n",
      " 5   Battery  142 non-null    object\n",
      " 6   SS       144 non-null    object\n",
      " 7   Prices   144 non-null    object\n",
      "dtypes: object(8)\n",
      "memory usage: 9.1+ KB\n"
     ]
    }
   ],
   "source": [
    "final_df.info()"
   ]
  },
  {
   "cell_type": "markdown",
   "id": "a575acf6",
   "metadata": {},
   "source": [
    "### type casting"
   ]
  },
  {
   "cell_type": "code",
   "execution_count": 74,
   "id": "fdb32744",
   "metadata": {},
   "outputs": [],
   "source": [
    "final_df.fillna(\"0\",inplace=True)"
   ]
  },
  {
   "cell_type": "code",
   "execution_count": 76,
   "id": "5946762f",
   "metadata": {},
   "outputs": [],
   "source": [
    "final_df['RAM'] = final_df['RAM'].astype(\"int\")\n",
    "final_df['ROM'] = final_df['ROM'].astype(\"int\")\n",
    "final_df['Battery'] = final_df['Battery'].astype(\"int\")\n",
    "final_df['SS'] = final_df['SS'].astype(\"float\")"
   ]
  },
  {
   "cell_type": "code",
   "execution_count": 77,
   "id": "763c9acd",
   "metadata": {},
   "outputs": [
    {
     "name": "stdout",
     "output_type": "stream",
     "text": [
      "<class 'pandas.core.frame.DataFrame'>\n",
      "RangeIndex: 144 entries, 0 to 143\n",
      "Data columns (total 8 columns):\n",
      " #   Column   Non-Null Count  Dtype  \n",
      "---  ------   --------------  -----  \n",
      " 0   Brands   144 non-null    object \n",
      " 1   Models   144 non-null    object \n",
      " 2   Color    144 non-null    object \n",
      " 3   RAM      144 non-null    int32  \n",
      " 4   ROM      144 non-null    int32  \n",
      " 5   Battery  144 non-null    int32  \n",
      " 6   SS       144 non-null    float64\n",
      " 7   Prices   144 non-null    object \n",
      "dtypes: float64(1), int32(3), object(4)\n",
      "memory usage: 7.4+ KB\n"
     ]
    }
   ],
   "source": [
    "final_df.info()"
   ]
  },
  {
   "cell_type": "code",
   "execution_count": 81,
   "id": "89a27448",
   "metadata": {},
   "outputs": [
    {
     "data": {
      "text/plain": [
       "'12999'"
      ]
     },
     "execution_count": 81,
     "metadata": {},
     "output_type": "execute_result"
    }
   ],
   "source": [
    "final_df['Prices'][0].replace(\"₹\",\"\").replace(\",\",\"\")"
   ]
  },
  {
   "cell_type": "code",
   "execution_count": 83,
   "id": "2b093aab",
   "metadata": {},
   "outputs": [],
   "source": [
    "final_df['Prices'] = [i.replace(\"₹\",\"\").replace(\",\",\"\") for i in final_df['Prices']]"
   ]
  },
  {
   "cell_type": "code",
   "execution_count": 85,
   "id": "d2c0075e",
   "metadata": {},
   "outputs": [],
   "source": [
    "final_df['Prices'] = final_df['Prices'].astype(\"int\")"
   ]
  },
  {
   "cell_type": "code",
   "execution_count": 86,
   "id": "95451e25",
   "metadata": {},
   "outputs": [
    {
     "name": "stdout",
     "output_type": "stream",
     "text": [
      "<class 'pandas.core.frame.DataFrame'>\n",
      "RangeIndex: 144 entries, 0 to 143\n",
      "Data columns (total 8 columns):\n",
      " #   Column   Non-Null Count  Dtype  \n",
      "---  ------   --------------  -----  \n",
      " 0   Brands   144 non-null    object \n",
      " 1   Models   144 non-null    object \n",
      " 2   Color    144 non-null    object \n",
      " 3   RAM      144 non-null    int32  \n",
      " 4   ROM      144 non-null    int32  \n",
      " 5   Battery  144 non-null    int32  \n",
      " 6   SS       144 non-null    float64\n",
      " 7   Prices   144 non-null    int32  \n",
      "dtypes: float64(1), int32(4), object(3)\n",
      "memory usage: 6.9+ KB\n"
     ]
    }
   ],
   "source": [
    "final_df.info()"
   ]
  },
  {
   "cell_type": "markdown",
   "id": "234f259e",
   "metadata": {},
   "source": [
    "## Data Analysis"
   ]
  },
  {
   "cell_type": "markdown",
   "id": "a6a0b361",
   "metadata": {},
   "source": [
    "#### Uni variate Analysis\n"
   ]
  },
  {
   "cell_type": "code",
   "execution_count": 89,
   "id": "ab9efc3a",
   "metadata": {},
   "outputs": [
    {
     "data": {
      "text/plain": [
       "array(['realme', 'Motorola', 'POCO', 'vivo', 'Apple', 'OnePlus'],\n",
       "      dtype=object)"
      ]
     },
     "execution_count": 89,
     "metadata": {},
     "output_type": "execute_result"
    }
   ],
   "source": [
    "final_df['Brands'].unique()"
   ]
  },
  {
   "cell_type": "code",
   "execution_count": 90,
   "id": "a20fd725",
   "metadata": {},
   "outputs": [
    {
     "data": {
      "text/plain": [
       "Brands\n",
       "vivo        61\n",
       "Motorola    32\n",
       "POCO        21\n",
       "realme      16\n",
       "OnePlus     12\n",
       "Apple        2\n",
       "Name: count, dtype: int64"
      ]
     },
     "execution_count": 90,
     "metadata": {},
     "output_type": "execute_result"
    }
   ],
   "source": [
    "final_df['Brands'].value_counts()"
   ]
  },
  {
   "cell_type": "code",
   "execution_count": 91,
   "id": "b81ba3ef",
   "metadata": {},
   "outputs": [],
   "source": [
    "import matplotlib.pyplot as plt\n",
    "import seaborn as sns"
   ]
  },
  {
   "cell_type": "code",
   "execution_count": 97,
   "id": "dc42fe24",
   "metadata": {},
   "outputs": [
    {
     "data": {
      "text/plain": [
       "<Axes: xlabel='Brands', ylabel='count'>"
      ]
     },
     "execution_count": 97,
     "metadata": {},
     "output_type": "execute_result"
    },
    {
     "data": {
      "image/png": "[encoded data removed]",
      "text/plain": [
       "<Figure size 640x480 with 1 Axes>"
      ]
     },
     "metadata": {},
     "output_type": "display_data"
    }
   ],
   "source": [
    "sns.countplot(final_df, x=\"Brands\")"
   ]
  },
  {
   "cell_type": "code",
   "execution_count": 98,
   "id": "78e19362",
   "metadata": {},
   "outputs": [
    {
     "data": {
      "text/plain": [
       "count      144.000000\n",
       "mean     14418.583333\n",
       "std       7602.611983\n",
       "min       5499.000000\n",
       "25%      11999.000000\n",
       "50%      12999.000000\n",
       "75%      15999.000000\n",
       "max      65999.000000\n",
       "Name: Prices, dtype: float64"
      ]
     },
     "execution_count": 98,
     "metadata": {},
     "output_type": "execute_result"
    }
   ],
   "source": [
    "final_df['Prices'].describe()"
   ]
  },
  {
   "cell_type": "code",
   "execution_count": 99,
   "id": "28fd3625",
   "metadata": {},
   "outputs": [
    {
     "data": {
      "text/plain": [
       "<Axes: >"
      ]
     },
     "execution_count": 99,
     "metadata": {},
     "output_type": "execute_result"
    },
    {
     "data": {
      "image/png": "[encoded data removed]",
      "text/plain": [
       "<Figure size 640x480 with 1 Axes>"
      ]
     },
     "metadata": {},
     "output_type": "display_data"
    }
   ],
   "source": [
    "sns.boxplot(final_df['Prices'])"
   ]
  },
  {
   "cell_type": "code",
   "execution_count": 100,
   "id": "73482e3c",
   "metadata": {},
   "outputs": [
    {
     "name": "stderr",
     "output_type": "stream",
     "text": [
      "C:\\Users\\DELL\\AppData\\Local\\Temp\\ipykernel_3940\\327978766.py:1: UserWarning: \n",
      "\n",
      "`distplot` is a deprecated function and will be removed in seaborn v0.14.0.\n",
      "\n",
      "Please adapt your code to use either `displot` (a figure-level function with\n",
      "similar flexibility) or `histplot` (an axes-level function for histograms).\n",
      "\n",
      "For a guide to updating your code to use the new functions, please see\n",
      "https://gist.github.com/mwaskom/de44147ed2974457ad6372750bbe5751\n",
      "\n",
      "  sns.distplot(final_df['Prices'])\n"
     ]
    },
    {
     "data": {
      "text/plain": [
       "<Axes: xlabel='Prices', ylabel='Density'>"
      ]
     },
     "execution_count": 100,
     "metadata": {},
     "output_type": "execute_result"
    },
    {
     "data": {
      "image/png": "[encoded data removed]",
      "text/plain": [
       "<Figure size 640x480 with 1 Axes>"
      ]
     },
     "metadata": {},
     "output_type": "display_data"
    }
   ],
   "source": [
    "sns.distplot(final_df['Prices'])"
   ]
  },
  {
   "cell_type": "code",
   "execution_count": 102,
   "id": "aeaa8c2b",
   "metadata": {},
   "outputs": [
    {
     "data": {
      "text/plain": [
       "<Axes: title={'center': 'Prices'}, xlabel='Brands'>"
      ]
     },
     "execution_count": 102,
     "metadata": {},
     "output_type": "execute_result"
    },
    {
     "data": {
      "image/png": "[encoded data removed]",
      "text/plain": [
       "<Figure size 640x480 with 1 Axes>"
      ]
     },
     "metadata": {},
     "output_type": "display_data"
    }
   ],
   "source": [
    "final_df.boxplot(by ='Brands', column =['Prices'], grid = False)"
   ]
  },
  {
   "cell_type": "code",
   "execution_count": 110,
   "id": "383580c1",
   "metadata": {},
   "outputs": [
    {
     "data": {
      "text/html": [
       "<div>\n",
       "<style scoped>\n",
       "    .dataframe tbody tr th:only-of-type {\n",
       "        vertical-align: middle;\n",
       "    }\n",
       "\n",
       "    .dataframe tbody tr th {\n",
       "        vertical-align: top;\n",
       "    }\n",
       "\n",
       "    .dataframe thead th {\n",
       "        text-align: right;\n",
       "    }\n",
       "</style>\n",
       "<table border=\"1\" class=\"dataframe\">\n",
       "  <thead>\n",
       "    <tr style=\"text-align: right;\">\n",
       "      <th></th>\n",
       "      <th>Models</th>\n",
       "      <th>Color</th>\n",
       "      <th>RAM</th>\n",
       "      <th>ROM</th>\n",
       "      <th>Battery</th>\n",
       "      <th>SS</th>\n",
       "      <th>Prices</th>\n",
       "    </tr>\n",
       "    <tr>\n",
       "      <th>Brands</th>\n",
       "      <th></th>\n",
       "      <th></th>\n",
       "      <th></th>\n",
       "      <th></th>\n",
       "      <th></th>\n",
       "      <th></th>\n",
       "      <th></th>\n",
       "    </tr>\n",
       "  </thead>\n",
       "  <tbody>\n",
       "    <tr>\n",
       "      <th>Apple</th>\n",
       "      <td>2</td>\n",
       "      <td>2</td>\n",
       "      <td>2</td>\n",
       "      <td>2</td>\n",
       "      <td>2</td>\n",
       "      <td>2</td>\n",
       "      <td>2</td>\n",
       "    </tr>\n",
       "    <tr>\n",
       "      <th>Motorola</th>\n",
       "      <td>32</td>\n",
       "      <td>32</td>\n",
       "      <td>32</td>\n",
       "      <td>32</td>\n",
       "      <td>32</td>\n",
       "      <td>32</td>\n",
       "      <td>32</td>\n",
       "    </tr>\n",
       "    <tr>\n",
       "      <th>OnePlus</th>\n",
       "      <td>12</td>\n",
       "      <td>12</td>\n",
       "      <td>12</td>\n",
       "      <td>12</td>\n",
       "      <td>12</td>\n",
       "      <td>12</td>\n",
       "      <td>12</td>\n",
       "    </tr>\n",
       "    <tr>\n",
       "      <th>POCO</th>\n",
       "      <td>21</td>\n",
       "      <td>21</td>\n",
       "      <td>21</td>\n",
       "      <td>21</td>\n",
       "      <td>21</td>\n",
       "      <td>21</td>\n",
       "      <td>21</td>\n",
       "    </tr>\n",
       "    <tr>\n",
       "      <th>realme</th>\n",
       "      <td>16</td>\n",
       "      <td>16</td>\n",
       "      <td>16</td>\n",
       "      <td>16</td>\n",
       "      <td>16</td>\n",
       "      <td>16</td>\n",
       "      <td>16</td>\n",
       "    </tr>\n",
       "    <tr>\n",
       "      <th>vivo</th>\n",
       "      <td>61</td>\n",
       "      <td>61</td>\n",
       "      <td>61</td>\n",
       "      <td>61</td>\n",
       "      <td>61</td>\n",
       "      <td>61</td>\n",
       "      <td>61</td>\n",
       "    </tr>\n",
       "  </tbody>\n",
       "</table>\n",
       "</div>"
      ],
      "text/plain": [
       "          Models  Color  RAM  ROM  Battery  SS  Prices\n",
       "Brands                                                \n",
       "Apple          2      2    2    2        2   2       2\n",
       "Motorola      32     32   32   32       32  32      32\n",
       "OnePlus       12     12   12   12       12  12      12\n",
       "POCO          21     21   21   21       21  21      21\n",
       "realme        16     16   16   16       16  16      16\n",
       "vivo          61     61   61   61       61  61      61"
      ]
     },
     "execution_count": 110,
     "metadata": {},
     "output_type": "execute_result"
    }
   ],
   "source": [
    "final_df.groupby(\"Brands\").count()"
   ]
  },
  {
   "cell_type": "code",
   "execution_count": 115,
   "id": "b75b650a",
   "metadata": {},
   "outputs": [
    {
     "data": {
      "text/plain": [
       "Brands    RAM\n",
       "Apple     0      65999\n",
       "Motorola  4      14999\n",
       "          8      22999\n",
       "OnePlus   8      22999\n",
       "POCO      4      65999\n",
       "          6      20868\n",
       "realme    4      12999\n",
       "          6      19439\n",
       "          8      26999\n",
       "vivo      4      17999\n",
       "          6      15999\n",
       "          8      17999\n",
       "Name: Prices, dtype: int32"
      ]
     },
     "execution_count": 115,
     "metadata": {},
     "output_type": "execute_result"
    }
   ],
   "source": [
    "final_df.groupby(by=[\"Brands\",'RAM']).max()['Prices']"
   ]
  },
  {
   "cell_type": "code",
   "execution_count": 116,
   "id": "7749d04e",
   "metadata": {},
   "outputs": [
    {
     "data": {
      "text/html": [
       "<div>\n",
       "<style scoped>\n",
       "    .dataframe tbody tr th:only-of-type {\n",
       "        vertical-align: middle;\n",
       "    }\n",
       "\n",
       "    .dataframe tbody tr th {\n",
       "        vertical-align: top;\n",
       "    }\n",
       "\n",
       "    .dataframe thead th {\n",
       "        text-align: right;\n",
       "    }\n",
       "</style>\n",
       "<table border=\"1\" class=\"dataframe\">\n",
       "  <thead>\n",
       "    <tr style=\"text-align: right;\">\n",
       "      <th></th>\n",
       "      <th>Brands</th>\n",
       "      <th>Models</th>\n",
       "      <th>Color</th>\n",
       "      <th>RAM</th>\n",
       "      <th>ROM</th>\n",
       "      <th>Battery</th>\n",
       "      <th>SS</th>\n",
       "      <th>Prices</th>\n",
       "    </tr>\n",
       "  </thead>\n",
       "  <tbody>\n",
       "    <tr>\n",
       "      <th>60</th>\n",
       "      <td>vivo</td>\n",
       "      <td>vivo T2 5G</td>\n",
       "      <td>Nitro Blaze</td>\n",
       "      <td>8</td>\n",
       "      <td>128</td>\n",
       "      <td>4500</td>\n",
       "      <td>6.38</td>\n",
       "      <td>17999</td>\n",
       "    </tr>\n",
       "    <tr>\n",
       "      <th>64</th>\n",
       "      <td>vivo</td>\n",
       "      <td>vivo T2 5G</td>\n",
       "      <td>Velocity Wave</td>\n",
       "      <td>8</td>\n",
       "      <td>128</td>\n",
       "      <td>4500</td>\n",
       "      <td>6.38</td>\n",
       "      <td>17999</td>\n",
       "    </tr>\n",
       "    <tr>\n",
       "      <th>67</th>\n",
       "      <td>OnePlus</td>\n",
       "      <td>OnePlus Nord CE 3 Lite 5G</td>\n",
       "      <td>Pastel Lime</td>\n",
       "      <td>8</td>\n",
       "      <td>128</td>\n",
       "      <td>5000</td>\n",
       "      <td>6.72</td>\n",
       "      <td>19459</td>\n",
       "    </tr>\n",
       "    <tr>\n",
       "      <th>69</th>\n",
       "      <td>OnePlus</td>\n",
       "      <td>OnePlus Nord CE 3 Lite 5G</td>\n",
       "      <td>Chromatic Gray</td>\n",
       "      <td>8</td>\n",
       "      <td>128</td>\n",
       "      <td>5000</td>\n",
       "      <td>6.72</td>\n",
       "      <td>19439</td>\n",
       "    </tr>\n",
       "    <tr>\n",
       "      <th>84</th>\n",
       "      <td>vivo</td>\n",
       "      <td>vivo T2 5G</td>\n",
       "      <td>Nitro Blaze</td>\n",
       "      <td>8</td>\n",
       "      <td>128</td>\n",
       "      <td>4500</td>\n",
       "      <td>6.38</td>\n",
       "      <td>17999</td>\n",
       "    </tr>\n",
       "    <tr>\n",
       "      <th>88</th>\n",
       "      <td>vivo</td>\n",
       "      <td>vivo T2 5G</td>\n",
       "      <td>Velocity Wave</td>\n",
       "      <td>8</td>\n",
       "      <td>128</td>\n",
       "      <td>4500</td>\n",
       "      <td>6.38</td>\n",
       "      <td>17999</td>\n",
       "    </tr>\n",
       "    <tr>\n",
       "      <th>91</th>\n",
       "      <td>OnePlus</td>\n",
       "      <td>OnePlus Nord CE 3 Lite 5G</td>\n",
       "      <td>Pastel Lime</td>\n",
       "      <td>8</td>\n",
       "      <td>128</td>\n",
       "      <td>5000</td>\n",
       "      <td>6.72</td>\n",
       "      <td>19459</td>\n",
       "    </tr>\n",
       "    <tr>\n",
       "      <th>93</th>\n",
       "      <td>OnePlus</td>\n",
       "      <td>OnePlus Nord CE 3 Lite 5G</td>\n",
       "      <td>Chromatic Gray</td>\n",
       "      <td>8</td>\n",
       "      <td>128</td>\n",
       "      <td>5000</td>\n",
       "      <td>6.72</td>\n",
       "      <td>19439</td>\n",
       "    </tr>\n",
       "    <tr>\n",
       "      <th>108</th>\n",
       "      <td>vivo</td>\n",
       "      <td>vivo T2x 5G</td>\n",
       "      <td>Glimmer Black</td>\n",
       "      <td>4</td>\n",
       "      <td>128</td>\n",
       "      <td>5000</td>\n",
       "      <td>6.58</td>\n",
       "      <td>17999</td>\n",
       "    </tr>\n",
       "    <tr>\n",
       "      <th>112</th>\n",
       "      <td>Motorola</td>\n",
       "      <td>Motorola g54 5G</td>\n",
       "      <td>Midnight Blue</td>\n",
       "      <td>8</td>\n",
       "      <td>128</td>\n",
       "      <td>6000</td>\n",
       "      <td>6.50</td>\n",
       "      <td>17999</td>\n",
       "    </tr>\n",
       "    <tr>\n",
       "      <th>115</th>\n",
       "      <td>realme</td>\n",
       "      <td>realme 11x 5G</td>\n",
       "      <td>Midnight Black</td>\n",
       "      <td>8</td>\n",
       "      <td>128</td>\n",
       "      <td>5000</td>\n",
       "      <td>6.72</td>\n",
       "      <td>19459</td>\n",
       "    </tr>\n",
       "    <tr>\n",
       "      <th>117</th>\n",
       "      <td>realme</td>\n",
       "      <td>realme 11x 5G</td>\n",
       "      <td>Midnight Black</td>\n",
       "      <td>6</td>\n",
       "      <td>128</td>\n",
       "      <td>5000</td>\n",
       "      <td>6.72</td>\n",
       "      <td>19439</td>\n",
       "    </tr>\n",
       "  </tbody>\n",
       "</table>\n",
       "</div>"
      ],
      "text/plain": [
       "       Brands                      Models           Color  RAM  ROM  Battery  \\\n",
       "60       vivo                 vivo T2 5G      Nitro Blaze    8  128     4500   \n",
       "64       vivo                 vivo T2 5G    Velocity Wave    8  128     4500   \n",
       "67    OnePlus  OnePlus Nord CE 3 Lite 5G      Pastel Lime    8  128     5000   \n",
       "69    OnePlus  OnePlus Nord CE 3 Lite 5G   Chromatic Gray    8  128     5000   \n",
       "84       vivo                 vivo T2 5G      Nitro Blaze    8  128     4500   \n",
       "88       vivo                 vivo T2 5G    Velocity Wave    8  128     4500   \n",
       "91    OnePlus  OnePlus Nord CE 3 Lite 5G      Pastel Lime    8  128     5000   \n",
       "93    OnePlus  OnePlus Nord CE 3 Lite 5G   Chromatic Gray    8  128     5000   \n",
       "108      vivo                vivo T2x 5G    Glimmer Black    4  128     5000   \n",
       "112  Motorola            Motorola g54 5G    Midnight Blue    8  128     6000   \n",
       "115    realme              realme 11x 5G   Midnight Black    8  128     5000   \n",
       "117    realme              realme 11x 5G   Midnight Black    6  128     5000   \n",
       "\n",
       "       SS  Prices  \n",
       "60   6.38   17999  \n",
       "64   6.38   17999  \n",
       "67   6.72   19459  \n",
       "69   6.72   19439  \n",
       "84   6.38   17999  \n",
       "88   6.38   17999  \n",
       "91   6.72   19459  \n",
       "93   6.72   19439  \n",
       "108  6.58   17999  \n",
       "112  6.50   17999  \n",
       "115  6.72   19459  \n",
       "117  6.72   19439  "
      ]
     },
     "execution_count": 116,
     "metadata": {},
     "output_type": "execute_result"
    }
   ],
   "source": [
    "final_df[(final_df['Prices']<20000)&(final_df['Prices']>17000)]"
   ]
  },
  {
   "cell_type": "markdown",
   "id": "1ca3f010",
   "metadata": {},
   "source": [
    "### Conclusion"
   ]
  },
  {
   "cell_type": "code",
   "execution_count": null,
   "id": "2fb5530c",
   "metadata": {},
   "outputs": [],
   "source": []
  }
 ],
 "metadata": {
  "kernelspec": {
   "display_name": "Python 3 (ipykernel)",
   "language": "python",
   "name": "python3"
  },
  "language_info": {
   "codemirror_mode": {
    "name": "ipython",
    "version": 3
   },
   "file_extension": ".py",
   "mimetype": "text/x-python",
   "name": "python",
   "nbconvert_exporter": "python",
   "pygments_lexer": "ipython3",
   "version": "3.11.5"
  }
 },
 "nbformat": 4,
 "nbformat_minor": 5
}
