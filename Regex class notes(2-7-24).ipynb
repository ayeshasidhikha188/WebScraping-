{
 "cells": [
  {
   "cell_type": "code",
   "execution_count": 1,
   "id": "e8ad8262",
   "metadata": {},
   "outputs": [],
   "source": [
    "# | ----> is for or or alternative  regex"
   ]
  },
  {
   "cell_type": "code",
   "execution_count": 3,
   "id": "644c4400",
   "metadata": {},
   "outputs": [],
   "source": [
    "import regex as re"
   ]
  },
  {
   "cell_type": "code",
   "execution_count": 5,
   "id": "c5190ab6",
   "metadata": {},
   "outputs": [],
   "source": [
    "# groups \n",
    "# syntax ()--->capture agroup "
   ]
  },
  {
   "cell_type": "code",
   "execution_count": 6,
   "id": "c9ed08b5",
   "metadata": {},
   "outputs": [],
   "source": [
    "text=\"\"\"\n",
    "I am legion\n",
    "I am angel\"\"\""
   ]
  },
  {
   "cell_type": "code",
   "execution_count": 11,
   "id": "7873db02",
   "metadata": {},
   "outputs": [
    {
     "name": "stdout",
     "output_type": "stream",
     "text": [
      "<regex.Match object; span=(1, 12), match='I am legion'>\n",
      "<regex.Match object; span=(18, 23), match='angel'>\n"
     ]
    }
   ],
   "source": [
    "pat =r'I am legion|angel'\n",
    "for ele in re.finditer(pat,text):\n",
    "    print(ele)"
   ]
  },
  {
   "cell_type": "code",
   "execution_count": null,
   "id": "d3e244c7",
   "metadata": {},
   "outputs": [],
   "source": [
    "# to get entire line for two values use group \n",
    "# match for groups "
   ]
  },
  {
   "cell_type": "code",
   "execution_count": 38,
   "id": "70281625",
   "metadata": {},
   "outputs": [
    {
     "name": "stdout",
     "output_type": "stream",
     "text": [
      "I am legion\n",
      "<re.Match object; span=(1, 12), match='I am legion'>\n",
      "I am angel\n",
      "<re.Match object; span=(13, 23), match='I am angel'>\n"
     ]
    }
   ],
   "source": [
    "pat =r'I am (legion|angel)'\n",
    "for ele in re.finditer(pat,text):\n",
    "    print(ele.group())# capturing entire match  \n",
    "    print(ele)"
   ]
  },
  {
   "cell_type": "code",
   "execution_count": null,
   "id": "c3173afb",
   "metadata": {},
   "outputs": [],
   "source": [
    "# to get caaptured groups\n",
    "# find all for captured groupos "
   ]
  },
  {
   "cell_type": "code",
   "execution_count": 39,
   "id": "fa550063",
   "metadata": {},
   "outputs": [
    {
     "data": {
      "text/plain": [
       "['legion', 'angel']"
      ]
     },
     "execution_count": 39,
     "metadata": {},
     "output_type": "execute_result"
    }
   ],
   "source": [
    "re.findall(pat,text) #capturing entire groups "
   ]
  },
  {
   "cell_type": "code",
   "execution_count": 49,
   "id": "01b9a000",
   "metadata": {},
   "outputs": [
    {
     "data": {
      "text/plain": [
       "'legion'"
      ]
     },
     "execution_count": 49,
     "metadata": {},
     "output_type": "execute_result"
    }
   ],
   "source": [
    "re.findall(pat,text)[0]"
   ]
  },
  {
   "cell_type": "code",
   "execution_count": 50,
   "id": "5cb45a4e",
   "metadata": {},
   "outputs": [
    {
     "data": {
      "text/plain": [
       "'angel'"
      ]
     },
     "execution_count": 50,
     "metadata": {},
     "output_type": "execute_result"
    }
   ],
   "source": [
    "re.findall(pat,text)[1]"
   ]
  },
  {
   "cell_type": "code",
   "execution_count": 40,
   "id": "f0e61018",
   "metadata": {},
   "outputs": [],
   "source": [
    "r=re.search(pat,text)"
   ]
  },
  {
   "cell_type": "code",
   "execution_count": 41,
   "id": "af854c61",
   "metadata": {},
   "outputs": [
    {
     "data": {
      "text/plain": [
       "('legion',)"
      ]
     },
     "execution_count": 41,
     "metadata": {},
     "output_type": "execute_result"
    }
   ],
   "source": [
    "r.groups() # search searches for first occurence "
   ]
  },
  {
   "cell_type": "code",
   "execution_count": 48,
   "id": "2f820d0d",
   "metadata": {},
   "outputs": [
    {
     "data": {
      "text/plain": [
       "('legion',)"
      ]
     },
     "execution_count": 48,
     "metadata": {},
     "output_type": "execute_result"
    }
   ],
   "source": [
    "r.groups(2)"
   ]
  },
  {
   "cell_type": "code",
   "execution_count": 42,
   "id": "5268849e",
   "metadata": {},
   "outputs": [],
   "source": [
    "# to get both use compile"
   ]
  },
  {
   "cell_type": "code",
   "execution_count": 43,
   "id": "1502e657",
   "metadata": {},
   "outputs": [],
   "source": [
    "import re\n",
    "rc=re.compile(r'I am (legion|angel)')"
   ]
  },
  {
   "cell_type": "code",
   "execution_count": 44,
   "id": "dda905c7",
   "metadata": {},
   "outputs": [],
   "source": [
    "rm=rc.match(text)"
   ]
  },
  {
   "cell_type": "code",
   "execution_count": 45,
   "id": "32e6e846",
   "metadata": {},
   "outputs": [],
   "source": [
    "rm"
   ]
  },
  {
   "cell_type": "code",
   "execution_count": 46,
   "id": "302302dc",
   "metadata": {},
   "outputs": [
    {
     "ename": "AttributeError",
     "evalue": "'NoneType' object has no attribute 'group'",
     "output_type": "error",
     "traceback": [
      "\u001b[1;31m---------------------------------------------------------------------------\u001b[0m",
      "\u001b[1;31mAttributeError\u001b[0m                            Traceback (most recent call last)",
      "Cell \u001b[1;32mIn[46], line 1\u001b[0m\n\u001b[1;32m----> 1\u001b[0m rm\u001b[38;5;241m.\u001b[39mgroup()\n",
      "\u001b[1;31mAttributeError\u001b[0m: 'NoneType' object has no attribute 'group'"
     ]
    }
   ],
   "source": [
    "rm.group()"
   ]
  },
  {
   "cell_type": "code",
   "execution_count": 52,
   "id": "1bde2636",
   "metadata": {},
   "outputs": [],
   "source": [
    "text1=r'<i><b><u>'\n",
    "pat=r'<(i|b|u)>'"
   ]
  },
  {
   "cell_type": "code",
   "execution_count": 54,
   "id": "deb61b45",
   "metadata": {},
   "outputs": [
    {
     "data": {
      "text/plain": [
       "['i', 'b', 'u']"
      ]
     },
     "execution_count": 54,
     "metadata": {},
     "output_type": "execute_result"
    }
   ],
   "source": [
    "re.findall(pat,text1)"
   ]
  },
  {
   "cell_type": "code",
   "execution_count": 57,
   "id": "37f683ea",
   "metadata": {},
   "outputs": [
    {
     "name": "stdout",
     "output_type": "stream",
     "text": [
      "<i>\n",
      "<re.Match object; span=(0, 3), match='<i>'>\n",
      "<b>\n",
      "<re.Match object; span=(3, 6), match='<b>'>\n",
      "<u>\n",
      "<re.Match object; span=(6, 9), match='<u>'>\n"
     ]
    }
   ],
   "source": [
    "for ele in re.finditer(pat,text1):\n",
    "    print(ele.group()) # getting groups \n",
    "    print(ele)"
   ]
  },
  {
   "cell_type": "code",
   "execution_count": 60,
   "id": "dc5dc5f6",
   "metadata": {},
   "outputs": [],
   "source": [
    "text1=r'<i>some text <\\i>'\n",
    "#pat=r'<.?>([0-98a-zA-Z])<.?>''"
   ]
  },
  {
   "cell_type": "code",
   "execution_count": 61,
   "id": "60330d99",
   "metadata": {},
   "outputs": [],
   "source": [
    "pat=r'<.*>([\\w*\\s]*)<.{1,2}>'"
   ]
  },
  {
   "cell_type": "code",
   "execution_count": 62,
   "id": "7fe121cb",
   "metadata": {},
   "outputs": [
    {
     "data": {
      "text/plain": [
       "['some text ']"
      ]
     },
     "execution_count": 62,
     "metadata": {},
     "output_type": "execute_result"
    }
   ],
   "source": [
    "re.findall(pat,text1)"
   ]
  },
  {
   "cell_type": "code",
   "execution_count": 63,
   "id": "240922ff",
   "metadata": {},
   "outputs": [],
   "source": [
    "# 2 approaches "
   ]
  },
  {
   "cell_type": "code",
   "execution_count": 81,
   "id": "4d90ab8f",
   "metadata": {},
   "outputs": [],
   "source": [
    "text1=\"<i>some text <\\i> <b>fgggg<\\b>\"\n",
    "pat=r'<.?>([\\w*\\s]*)<.{1,2}>'"
   ]
  },
  {
   "cell_type": "code",
   "execution_count": 82,
   "id": "cee5ea1b",
   "metadata": {},
   "outputs": [
    {
     "data": {
      "text/plain": [
       "<re.Match object; span=(0, 17), match='<i>some text <\\\\i>'>"
      ]
     },
     "execution_count": 82,
     "metadata": {},
     "output_type": "execute_result"
    }
   ],
   "source": [
    "re.search(pat, text1)"
   ]
  },
  {
   "cell_type": "code",
   "execution_count": 83,
   "id": "f305df68",
   "metadata": {},
   "outputs": [
    {
     "ename": "AttributeError",
     "evalue": "'NoneType' object has no attribute 'group'",
     "output_type": "error",
     "traceback": [
      "\u001b[1;31m---------------------------------------------------------------------------\u001b[0m",
      "\u001b[1;31mAttributeError\u001b[0m                            Traceback (most recent call last)",
      "Cell \u001b[1;32mIn[83], line 1\u001b[0m\n\u001b[1;32m----> 1\u001b[0m rm\u001b[38;5;241m.\u001b[39mgroup()\n",
      "\u001b[1;31mAttributeError\u001b[0m: 'NoneType' object has no attribute 'group'"
     ]
    }
   ],
   "source": [
    "rm.group()"
   ]
  },
  {
   "cell_type": "code",
   "execution_count": 71,
   "id": "d7e48988",
   "metadata": {},
   "outputs": [
    {
     "data": {
      "text/plain": [
       "['fgggg']"
      ]
     },
     "execution_count": 71,
     "metadata": {},
     "output_type": "execute_result"
    }
   ],
   "source": [
    "re.findall(pat,text1)"
   ]
  },
  {
   "cell_type": "code",
   "execution_count": 72,
   "id": "1a59a0f6",
   "metadata": {},
   "outputs": [
    {
     "data": {
      "text/plain": [
       "'some text  fgggg'"
      ]
     },
     "execution_count": 72,
     "metadata": {},
     "output_type": "execute_result"
    }
   ],
   "source": [
    "re.sub(r'<.*?>','',text1)"
   ]
  },
  {
   "cell_type": "code",
   "execution_count": 68,
   "id": "95ff01ee",
   "metadata": {},
   "outputs": [
    {
     "data": {
      "text/plain": [
       "<re.Match object; span=(0, 21), match='<i>some text <\\\\i>\\n<b>'>"
      ]
     },
     "execution_count": 68,
     "metadata": {},
     "output_type": "execute_result"
    }
   ],
   "source": [
    "re.search(pat, text1)"
   ]
  },
  {
   "cell_type": "code",
   "execution_count": 104,
   "id": "d77c23dd",
   "metadata": {},
   "outputs": [],
   "source": [
    "date='02-02-2024'"
   ]
  },
  {
   "cell_type": "code",
   "execution_count": 105,
   "id": "d010cac8",
   "metadata": {},
   "outputs": [],
   "source": [
    "pat=r'(\\d{1,2})[-\\/\\\\](\\d{1,2})[-\\/\\\\](\\d{2,4})'"
   ]
  },
  {
   "cell_type": "code",
   "execution_count": 106,
   "id": "0754ced9",
   "metadata": {},
   "outputs": [],
   "source": [
    "rm=re.search(pat,date)"
   ]
  },
  {
   "cell_type": "code",
   "execution_count": 107,
   "id": "56afed7b",
   "metadata": {},
   "outputs": [
    {
     "data": {
      "text/plain": [
       "'02-02-2024'"
      ]
     },
     "execution_count": 107,
     "metadata": {},
     "output_type": "execute_result"
    }
   ],
   "source": [
    "rm.group()"
   ]
  },
  {
   "cell_type": "code",
   "execution_count": 108,
   "id": "23bd638c",
   "metadata": {},
   "outputs": [],
   "source": [
    "rm=re.search(pat,date)"
   ]
  },
  {
   "cell_type": "code",
   "execution_count": 109,
   "id": "cf89b5bf",
   "metadata": {},
   "outputs": [
    {
     "data": {
      "text/plain": [
       "'02-02-2024'"
      ]
     },
     "execution_count": 109,
     "metadata": {},
     "output_type": "execute_result"
    }
   ],
   "source": [
    "rm.group(0)"
   ]
  },
  {
   "cell_type": "code",
   "execution_count": 110,
   "id": "affda42a",
   "metadata": {},
   "outputs": [
    {
     "data": {
      "text/plain": [
       "'02'"
      ]
     },
     "execution_count": 110,
     "metadata": {},
     "output_type": "execute_result"
    }
   ],
   "source": [
    "rm.group(1)"
   ]
  },
  {
   "cell_type": "code",
   "execution_count": 111,
   "id": "115822fc",
   "metadata": {},
   "outputs": [
    {
     "data": {
      "text/plain": [
       "'02'"
      ]
     },
     "execution_count": 111,
     "metadata": {},
     "output_type": "execute_result"
    }
   ],
   "source": [
    "rm.group(2)"
   ]
  },
  {
   "cell_type": "code",
   "execution_count": 112,
   "id": "a1260ad5",
   "metadata": {},
   "outputs": [
    {
     "data": {
      "text/plain": [
       "'2024'"
      ]
     },
     "execution_count": 112,
     "metadata": {},
     "output_type": "execute_result"
    }
   ],
   "source": [
    "rm.group(3)"
   ]
  },
  {
   "cell_type": "code",
   "execution_count": 113,
   "id": "c3181a37",
   "metadata": {},
   "outputs": [],
   "source": [
    "# named groups \n",
    "# instead of group 0 group 1 we are naming here "
   ]
  },
  {
   "cell_type": "code",
   "execution_count": null,
   "id": "19bbff51",
   "metadata": {},
   "outputs": [],
   "source": [
    "# create a name for a group  "
   ]
  },
  {
   "cell_type": "code",
   "execution_count": 114,
   "id": "a0918fe0",
   "metadata": {},
   "outputs": [],
   "source": [
    "# syntax\n",
    "# (?P<nameofgroup>)"
   ]
  },
  {
   "cell_type": "code",
   "execution_count": 116,
   "id": "d74b024d",
   "metadata": {},
   "outputs": [],
   "source": [
    "date='02-02-2024'\n",
    "pat=r'(?P<Date>\\d{1,2})[-\\/\\\\](?P<Month>\\d{1,2})[-\\/\\\\](?P<Year>\\d{2,4})'"
   ]
  },
  {
   "cell_type": "code",
   "execution_count": 117,
   "id": "15678125",
   "metadata": {},
   "outputs": [],
   "source": [
    "rm=re.search(pat,date)"
   ]
  },
  {
   "cell_type": "code",
   "execution_count": 119,
   "id": "43e45eec",
   "metadata": {},
   "outputs": [
    {
     "data": {
      "text/plain": [
       "'02-02-2024'"
      ]
     },
     "execution_count": 119,
     "metadata": {},
     "output_type": "execute_result"
    }
   ],
   "source": [
    "rm.group(0)"
   ]
  },
  {
   "cell_type": "code",
   "execution_count": 122,
   "id": "dd360c4a",
   "metadata": {},
   "outputs": [
    {
     "data": {
      "text/plain": [
       "'02'"
      ]
     },
     "execution_count": 122,
     "metadata": {},
     "output_type": "execute_result"
    }
   ],
   "source": [
    "rm.group('Date')"
   ]
  },
  {
   "cell_type": "code",
   "execution_count": 123,
   "id": "840824a7",
   "metadata": {},
   "outputs": [
    {
     "data": {
      "text/plain": [
       "'02'"
      ]
     },
     "execution_count": 123,
     "metadata": {},
     "output_type": "execute_result"
    }
   ],
   "source": [
    "rm.group('Month')"
   ]
  },
  {
   "cell_type": "code",
   "execution_count": 124,
   "id": "599b0b2b",
   "metadata": {},
   "outputs": [
    {
     "data": {
      "text/plain": [
       "'2024'"
      ]
     },
     "execution_count": 124,
     "metadata": {},
     "output_type": "execute_result"
    }
   ],
   "source": [
    "rm.group('Year')"
   ]
  },
  {
   "cell_type": "code",
   "execution_count": 125,
   "id": "cdbb6755",
   "metadata": {},
   "outputs": [],
   "source": [
    "# \n",
    "text='''\n",
    "name: Bhanu Prasad \n",
    "age: 16\n",
    "id:144\n",
    "grade:A+\n",
    "\n",
    "name: prasanna kumar \n",
    "age: 14\n",
    "id: 143143\n",
    "grade: A++\n",
    "'''"
   ]
  },
  {
   "cell_type": "code",
   "execution_count": 127,
   "id": "14c6775d",
   "metadata": {},
   "outputs": [],
   "source": [
    "pat=r'name:([\\w\\s]+)\\n'"
   ]
  },
  {
   "cell_type": "code",
   "execution_count": 130,
   "id": "719283dc",
   "metadata": {},
   "outputs": [],
   "source": [
    "rm=re.search(pat,text)"
   ]
  },
  {
   "cell_type": "code",
   "execution_count": 133,
   "id": "f09fdccc",
   "metadata": {},
   "outputs": [
    {
     "data": {
      "text/plain": [
       "' Bhanu Prasad '"
      ]
     },
     "execution_count": 133,
     "metadata": {},
     "output_type": "execute_result"
    }
   ],
   "source": [
    "rm.group(1)"
   ]
  },
  {
   "cell_type": "code",
   "execution_count": 139,
   "id": "e4790269",
   "metadata": {},
   "outputs": [
    {
     "data": {
      "text/plain": [
       "[' Bhanu Prasad ', ' prasanna kumar ']"
      ]
     },
     "execution_count": 139,
     "metadata": {},
     "output_type": "execute_result"
    }
   ],
   "source": [
    "re.findall(pat,text) # to get both "
   ]
  },
  {
   "cell_type": "code",
   "execution_count": 144,
   "id": "d2532c02",
   "metadata": {},
   "outputs": [],
   "source": [
    "pat=r'name:(?P<Name>[\\w\\s]+)\\n'"
   ]
  },
  {
   "cell_type": "code",
   "execution_count": 145,
   "id": "203df7c8",
   "metadata": {},
   "outputs": [],
   "source": [
    "rm=re.search(pat,text)"
   ]
  },
  {
   "cell_type": "code",
   "execution_count": 146,
   "id": "356e5643",
   "metadata": {},
   "outputs": [
    {
     "data": {
      "text/plain": [
       "' Bhanu Prasad '"
      ]
     },
     "execution_count": 146,
     "metadata": {},
     "output_type": "execute_result"
    }
   ],
   "source": [
    "rm.group('Name')"
   ]
  },
  {
   "cell_type": "code",
   "execution_count": 147,
   "id": "cda8faa1",
   "metadata": {},
   "outputs": [],
   "source": [
    "# back referencing \n",
    "date='01/12-1991'\n",
    "pat=r'(?P<Date>\\d{1,2})[-\\/\\\\](?P<Month>\\d{1,2})[-\\/\\\\](?P<Year>\\d{2,4})'"
   ]
  },
  {
   "cell_type": "code",
   "execution_count": 148,
   "id": "e87d5430",
   "metadata": {},
   "outputs": [],
   "source": [
    "rm=re.search(pat,text)"
   ]
  },
  {
   "cell_type": "code",
   "execution_count": 155,
   "id": "0686fff5",
   "metadata": {},
   "outputs": [
    {
     "data": {
      "text/plain": [
       "'1991-12-01'"
      ]
     },
     "execution_count": 155,
     "metadata": {},
     "output_type": "execute_result"
    }
   ],
   "source": [
    "re.sub(pat,r'\\3-\\2-\\1',date) # Back reference  Replace with rawstring rearranging back rencing '\\'"
   ]
  },
  {
   "cell_type": "code",
   "execution_count": 156,
   "id": "48fe4a39",
   "metadata": {},
   "outputs": [],
   "source": [
    "date='02-02-2024'\n",
    "pat=r'(?P<Date>\\d{1,2})[-\\/\\\\](?P<Month>\\d{1,2})[-\\/\\\\](?P<Year>\\d{2,4})'\n",
    "rm=re.search(pat,text)"
   ]
  },
  {
   "cell_type": "code",
   "execution_count": 157,
   "id": "489e81a2",
   "metadata": {},
   "outputs": [
    {
     "data": {
      "text/plain": [
       "'2024-02-02'"
      ]
     },
     "execution_count": 157,
     "metadata": {},
     "output_type": "execute_result"
    }
   ],
   "source": [
    "re.sub(pat,r'\\3-\\2-\\1',date)"
   ]
  },
  {
   "cell_type": "code",
   "execution_count": 159,
   "id": "d0e389c1",
   "metadata": {},
   "outputs": [
    {
     "data": {
      "text/plain": [
       "'2024-02-02'"
      ]
     },
     "execution_count": 159,
     "metadata": {},
     "output_type": "execute_result"
    }
   ],
   "source": [
    "re.sub(pat,r'\\g<Year>-\\g<Month>-\\g<Date>',date)"
   ]
  },
  {
   "cell_type": "code",
   "execution_count": 160,
   "id": "c635cb3b",
   "metadata": {},
   "outputs": [],
   "source": [
    "# non captuiring groups \n",
    "# syntax----> (?:pat)\n",
    "# just need groups and matches but not capturing it we use non capturing"
   ]
  },
  {
   "cell_type": "code",
   "execution_count": null,
   "id": "989bf8bf",
   "metadata": {},
   "outputs": [],
   "source": [
    "# capturing groups "
   ]
  },
  {
   "cell_type": "code",
   "execution_count": 162,
   "id": "f1b2afa6",
   "metadata": {},
   "outputs": [
    {
     "data": {
      "text/plain": [
       "['some text ', 'fgggg']"
      ]
     },
     "execution_count": 162,
     "metadata": {},
     "output_type": "execute_result"
    }
   ],
   "source": [
    "text1=\"<i>some text <\\i> <b>fgggg<\\b>\"\n",
    "pat=r'<.?>([\\w*\\s]*)<.{1,2}>'\n",
    "re.findall(pat,text1)"
   ]
  },
  {
   "cell_type": "code",
   "execution_count": 163,
   "id": "24be84cc",
   "metadata": {},
   "outputs": [
    {
     "data": {
      "text/plain": [
       "['<i>some text <\\\\i>', '<b>fgggg<\\x08>']"
      ]
     },
     "execution_count": 163,
     "metadata": {},
     "output_type": "execute_result"
    }
   ],
   "source": [
    "# non capturing groups \n",
    "text1=\"<i>some text <\\i> <b>fgggg<\\b>\"\n",
    "pat=r'<.?>(?:[\\w*\\s]*)<.{1,2}>'\n",
    "re.findall(pat,text1) # not captures the group capturing matches only "
   ]
  },
  {
   "cell_type": "code",
   "execution_count": null,
   "id": "b4f65773",
   "metadata": {},
   "outputs": [],
   "source": []
  },
  {
   "cell_type": "code",
   "execution_count": null,
   "id": "f83d8a46",
   "metadata": {},
   "outputs": [],
   "source": []
  },
  {
   "cell_type": "code",
   "execution_count": null,
   "id": "d62f307f",
   "metadata": {},
   "outputs": [],
   "source": []
  },
  {
   "cell_type": "code",
   "execution_count": null,
   "id": "b5c3a8c7",
   "metadata": {},
   "outputs": [],
   "source": []
  },
  {
   "cell_type": "code",
   "execution_count": null,
   "id": "924a5e06",
   "metadata": {},
   "outputs": [],
   "source": []
  },
  {
   "cell_type": "code",
   "execution_count": null,
   "id": "77ac5e5e",
   "metadata": {},
   "outputs": [],
   "source": []
  },
  {
   "cell_type": "code",
   "execution_count": null,
   "id": "feb35857",
   "metadata": {},
   "outputs": [],
   "source": []
  },
  {
   "cell_type": "code",
   "execution_count": null,
   "id": "a5d3733c",
   "metadata": {},
   "outputs": [],
   "source": []
  },
  {
   "cell_type": "code",
   "execution_count": null,
   "id": "067159c2",
   "metadata": {},
   "outputs": [],
   "source": []
  },
  {
   "cell_type": "code",
   "execution_count": null,
   "id": "d5fd0d63",
   "metadata": {},
   "outputs": [],
   "source": []
  },
  {
   "cell_type": "code",
   "execution_count": null,
   "id": "2b8eb620",
   "metadata": {},
   "outputs": [],
   "source": []
  },
  {
   "cell_type": "code",
   "execution_count": null,
   "id": "5797ccaf",
   "metadata": {},
   "outputs": [],
   "source": []
  },
  {
   "cell_type": "code",
   "execution_count": null,
   "id": "b0e3471a",
   "metadata": {},
   "outputs": [],
   "source": []
  },
  {
   "cell_type": "code",
   "execution_count": null,
   "id": "1936fc89",
   "metadata": {},
   "outputs": [],
   "source": []
  },
  {
   "cell_type": "code",
   "execution_count": null,
   "id": "dd6aea6b",
   "metadata": {},
   "outputs": [],
   "source": []
  },
  {
   "cell_type": "code",
   "execution_count": null,
   "id": "cf30f2b4",
   "metadata": {},
   "outputs": [],
   "source": []
  },
  {
   "cell_type": "code",
   "execution_count": null,
   "id": "4dfeac7d",
   "metadata": {},
   "outputs": [],
   "source": []
  },
  {
   "cell_type": "code",
   "execution_count": null,
   "id": "c402b1b6",
   "metadata": {},
   "outputs": [],
   "source": []
  },
  {
   "cell_type": "code",
   "execution_count": null,
   "id": "1ff7eb10",
   "metadata": {},
   "outputs": [],
   "source": []
  },
  {
   "cell_type": "code",
   "execution_count": null,
   "id": "8621c6e5",
   "metadata": {},
   "outputs": [],
   "source": []
  },
  {
   "cell_type": "code",
   "execution_count": null,
   "id": "5ef4a204",
   "metadata": {},
   "outputs": [],
   "source": []
  },
  {
   "cell_type": "code",
   "execution_count": null,
   "id": "fc34cd73",
   "metadata": {},
   "outputs": [],
   "source": []
  },
  {
   "cell_type": "code",
   "execution_count": null,
   "id": "1fc916d8",
   "metadata": {},
   "outputs": [],
   "source": []
  },
  {
   "cell_type": "code",
   "execution_count": null,
   "id": "e80e4b0c",
   "metadata": {},
   "outputs": [],
   "source": []
  },
  {
   "cell_type": "code",
   "execution_count": null,
   "id": "b6ab42d5",
   "metadata": {},
   "outputs": [],
   "source": []
  },
  {
   "cell_type": "code",
   "execution_count": null,
   "id": "93bcbb5e",
   "metadata": {},
   "outputs": [],
   "source": []
  },
  {
   "cell_type": "code",
   "execution_count": null,
   "id": "9ce24cd9",
   "metadata": {},
   "outputs": [],
   "source": []
  },
  {
   "cell_type": "code",
   "execution_count": null,
   "id": "43a6c214",
   "metadata": {},
   "outputs": [],
   "source": []
  },
  {
   "cell_type": "code",
   "execution_count": null,
   "id": "050d762d",
   "metadata": {},
   "outputs": [],
   "source": []
  },
  {
   "cell_type": "code",
   "execution_count": null,
   "id": "bbdd9829",
   "metadata": {},
   "outputs": [],
   "source": []
  },
  {
   "cell_type": "code",
   "execution_count": null,
   "id": "4e1b7316",
   "metadata": {},
   "outputs": [],
   "source": []
  },
  {
   "cell_type": "code",
   "execution_count": null,
   "id": "344d100e",
   "metadata": {},
   "outputs": [],
   "source": []
  },
  {
   "cell_type": "code",
   "execution_count": null,
   "id": "7abe9b29",
   "metadata": {},
   "outputs": [],
   "source": []
  },
  {
   "cell_type": "code",
   "execution_count": null,
   "id": "03cd1f8c",
   "metadata": {},
   "outputs": [],
   "source": []
  },
  {
   "cell_type": "code",
   "execution_count": null,
   "id": "df9c7241",
   "metadata": {},
   "outputs": [],
   "source": []
  },
  {
   "cell_type": "code",
   "execution_count": null,
   "id": "af197a85",
   "metadata": {},
   "outputs": [],
   "source": []
  },
  {
   "cell_type": "code",
   "execution_count": null,
   "id": "b4ede503",
   "metadata": {},
   "outputs": [],
   "source": []
  },
  {
   "cell_type": "code",
   "execution_count": null,
   "id": "e078468e",
   "metadata": {},
   "outputs": [],
   "source": []
  },
  {
   "cell_type": "code",
   "execution_count": null,
   "id": "07a4df25",
   "metadata": {},
   "outputs": [],
   "source": []
  },
  {
   "cell_type": "code",
   "execution_count": null,
   "id": "d53de099",
   "metadata": {},
   "outputs": [],
   "source": []
  },
  {
   "cell_type": "code",
   "execution_count": null,
   "id": "5258cf8f",
   "metadata": {},
   "outputs": [],
   "source": []
  },
  {
   "cell_type": "code",
   "execution_count": null,
   "id": "e6696962",
   "metadata": {},
   "outputs": [],
   "source": []
  },
  {
   "cell_type": "code",
   "execution_count": null,
   "id": "2dec9db8",
   "metadata": {},
   "outputs": [],
   "source": []
  },
  {
   "cell_type": "code",
   "execution_count": null,
   "id": "fc0cfbde",
   "metadata": {},
   "outputs": [],
   "source": []
  },
  {
   "cell_type": "code",
   "execution_count": null,
   "id": "a3a5cf6c",
   "metadata": {},
   "outputs": [],
   "source": []
  },
  {
   "cell_type": "code",
   "execution_count": null,
   "id": "de7ec9c1",
   "metadata": {},
   "outputs": [],
   "source": []
  },
  {
   "cell_type": "code",
   "execution_count": null,
   "id": "2ea0c868",
   "metadata": {},
   "outputs": [],
   "source": []
  },
  {
   "cell_type": "code",
   "execution_count": null,
   "id": "23ddd93c",
   "metadata": {},
   "outputs": [],
   "source": []
  },
  {
   "cell_type": "code",
   "execution_count": null,
   "id": "9cb73e28",
   "metadata": {},
   "outputs": [],
   "source": []
  },
  {
   "cell_type": "code",
   "execution_count": null,
   "id": "5a7b380e",
   "metadata": {},
   "outputs": [],
   "source": []
  },
  {
   "cell_type": "code",
   "execution_count": null,
   "id": "90ab4f23",
   "metadata": {},
   "outputs": [],
   "source": []
  },
  {
   "cell_type": "code",
   "execution_count": null,
   "id": "737721be",
   "metadata": {},
   "outputs": [],
   "source": []
  },
  {
   "cell_type": "code",
   "execution_count": null,
   "id": "e083a84d",
   "metadata": {},
   "outputs": [],
   "source": []
  },
  {
   "cell_type": "code",
   "execution_count": null,
   "id": "586bcc8a",
   "metadata": {},
   "outputs": [],
   "source": []
  },
  {
   "cell_type": "code",
   "execution_count": null,
   "id": "c03d2331",
   "metadata": {},
   "outputs": [],
   "source": []
  },
  {
   "cell_type": "code",
   "execution_count": null,
   "id": "df798602",
   "metadata": {},
   "outputs": [],
   "source": []
  },
  {
   "cell_type": "code",
   "execution_count": null,
   "id": "97a41fb0",
   "metadata": {},
   "outputs": [],
   "source": []
  },
  {
   "cell_type": "code",
   "execution_count": null,
   "id": "169cfaf5",
   "metadata": {},
   "outputs": [],
   "source": []
  },
  {
   "cell_type": "code",
   "execution_count": null,
   "id": "1b8d6947",
   "metadata": {},
   "outputs": [],
   "source": []
  },
  {
   "cell_type": "code",
   "execution_count": null,
   "id": "c32ee402",
   "metadata": {},
   "outputs": [],
   "source": []
  },
  {
   "cell_type": "code",
   "execution_count": null,
   "id": "f684b11c",
   "metadata": {},
   "outputs": [],
   "source": []
  },
  {
   "cell_type": "code",
   "execution_count": null,
   "id": "299fdf7a",
   "metadata": {},
   "outputs": [],
   "source": []
  },
  {
   "cell_type": "code",
   "execution_count": null,
   "id": "167701c1",
   "metadata": {},
   "outputs": [],
   "source": []
  },
  {
   "cell_type": "code",
   "execution_count": null,
   "id": "065115f0",
   "metadata": {},
   "outputs": [],
   "source": []
  },
  {
   "cell_type": "code",
   "execution_count": null,
   "id": "daffe2b8",
   "metadata": {},
   "outputs": [],
   "source": []
  },
  {
   "cell_type": "code",
   "execution_count": null,
   "id": "c205b727",
   "metadata": {},
   "outputs": [],
   "source": []
  },
  {
   "cell_type": "code",
   "execution_count": null,
   "id": "263d4536",
   "metadata": {},
   "outputs": [],
   "source": []
  },
  {
   "cell_type": "code",
   "execution_count": null,
   "id": "bac7fc0b",
   "metadata": {},
   "outputs": [],
   "source": []
  },
  {
   "cell_type": "code",
   "execution_count": null,
   "id": "d950373c",
   "metadata": {},
   "outputs": [],
   "source": []
  },
  {
   "cell_type": "code",
   "execution_count": null,
   "id": "ea2c5fe0",
   "metadata": {},
   "outputs": [],
   "source": []
  },
  {
   "cell_type": "code",
   "execution_count": null,
   "id": "8833ec65",
   "metadata": {},
   "outputs": [],
   "source": []
  },
  {
   "cell_type": "code",
   "execution_count": null,
   "id": "f2f1aa95",
   "metadata": {},
   "outputs": [],
   "source": []
  },
  {
   "cell_type": "code",
   "execution_count": null,
   "id": "ee5be1b5",
   "metadata": {},
   "outputs": [],
   "source": []
  },
  {
   "cell_type": "code",
   "execution_count": null,
   "id": "4ed37162",
   "metadata": {},
   "outputs": [],
   "source": []
  },
  {
   "cell_type": "code",
   "execution_count": null,
   "id": "f757bad5",
   "metadata": {},
   "outputs": [],
   "source": []
  },
  {
   "cell_type": "code",
   "execution_count": null,
   "id": "89cc6f4e",
   "metadata": {},
   "outputs": [],
   "source": []
  },
  {
   "cell_type": "code",
   "execution_count": null,
   "id": "37af80fb",
   "metadata": {},
   "outputs": [],
   "source": []
  },
  {
   "cell_type": "code",
   "execution_count": null,
   "id": "3720b526",
   "metadata": {},
   "outputs": [],
   "source": []
  },
  {
   "cell_type": "code",
   "execution_count": null,
   "id": "6e4a9fb8",
   "metadata": {},
   "outputs": [],
   "source": []
  },
  {
   "cell_type": "code",
   "execution_count": null,
   "id": "a0267706",
   "metadata": {},
   "outputs": [],
   "source": []
  },
  {
   "cell_type": "code",
   "execution_count": null,
   "id": "fa345cbc",
   "metadata": {},
   "outputs": [],
   "source": []
  },
  {
   "cell_type": "code",
   "execution_count": null,
   "id": "46763dc5",
   "metadata": {},
   "outputs": [],
   "source": []
  },
  {
   "cell_type": "code",
   "execution_count": null,
   "id": "cba1d1f2",
   "metadata": {},
   "outputs": [],
   "source": []
  },
  {
   "cell_type": "code",
   "execution_count": null,
   "id": "1006d0cb",
   "metadata": {},
   "outputs": [],
   "source": []
  },
  {
   "cell_type": "code",
   "execution_count": null,
   "id": "727a4ff8",
   "metadata": {},
   "outputs": [],
   "source": []
  },
  {
   "cell_type": "code",
   "execution_count": null,
   "id": "9f3c9b12",
   "metadata": {},
   "outputs": [],
   "source": []
  },
  {
   "cell_type": "code",
   "execution_count": null,
   "id": "197dbc1b",
   "metadata": {},
   "outputs": [],
   "source": []
  },
  {
   "cell_type": "code",
   "execution_count": null,
   "id": "d5c0a7d3",
   "metadata": {},
   "outputs": [],
   "source": []
  },
  {
   "cell_type": "code",
   "execution_count": null,
   "id": "d5d6bab7",
   "metadata": {},
   "outputs": [],
   "source": []
  },
  {
   "cell_type": "code",
   "execution_count": null,
   "id": "a7654583",
   "metadata": {},
   "outputs": [],
   "source": []
  },
  {
   "cell_type": "code",
   "execution_count": null,
   "id": "c59d7551",
   "metadata": {},
   "outputs": [],
   "source": []
  },
  {
   "cell_type": "code",
   "execution_count": null,
   "id": "662465a3",
   "metadata": {},
   "outputs": [],
   "source": []
  },
  {
   "cell_type": "code",
   "execution_count": null,
   "id": "7ed4cb1a",
   "metadata": {},
   "outputs": [],
   "source": []
  },
  {
   "cell_type": "code",
   "execution_count": null,
   "id": "1a6e25aa",
   "metadata": {},
   "outputs": [],
   "source": []
  },
  {
   "cell_type": "code",
   "execution_count": null,
   "id": "73d05ab2",
   "metadata": {},
   "outputs": [],
   "source": []
  },
  {
   "cell_type": "code",
   "execution_count": null,
   "id": "6c32ac56",
   "metadata": {},
   "outputs": [],
   "source": []
  },
  {
   "cell_type": "code",
   "execution_count": null,
   "id": "dd6aef76",
   "metadata": {},
   "outputs": [],
   "source": []
  },
  {
   "cell_type": "code",
   "execution_count": null,
   "id": "fdb1259e",
   "metadata": {},
   "outputs": [],
   "source": []
  },
  {
   "cell_type": "code",
   "execution_count": null,
   "id": "d292a5b4",
   "metadata": {},
   "outputs": [],
   "source": []
  },
  {
   "cell_type": "code",
   "execution_count": null,
   "id": "03b74ce6",
   "metadata": {},
   "outputs": [],
   "source": []
  },
  {
   "cell_type": "code",
   "execution_count": null,
   "id": "8f8b28ca",
   "metadata": {},
   "outputs": [],
   "source": []
  },
  {
   "cell_type": "code",
   "execution_count": null,
   "id": "790bd076",
   "metadata": {},
   "outputs": [],
   "source": []
  },
  {
   "cell_type": "code",
   "execution_count": null,
   "id": "131db707",
   "metadata": {},
   "outputs": [],
   "source": []
  },
  {
   "cell_type": "code",
   "execution_count": null,
   "id": "3f69c7f9",
   "metadata": {},
   "outputs": [],
   "source": []
  },
  {
   "cell_type": "code",
   "execution_count": null,
   "id": "6bf3a97e",
   "metadata": {},
   "outputs": [],
   "source": []
  },
  {
   "cell_type": "code",
   "execution_count": null,
   "id": "dbda841b",
   "metadata": {},
   "outputs": [],
   "source": []
  },
  {
   "cell_type": "code",
   "execution_count": null,
   "id": "1784c2e8",
   "metadata": {},
   "outputs": [],
   "source": []
  },
  {
   "cell_type": "code",
   "execution_count": null,
   "id": "96ef9e10",
   "metadata": {},
   "outputs": [],
   "source": []
  },
  {
   "cell_type": "code",
   "execution_count": null,
   "id": "4b29cf84",
   "metadata": {},
   "outputs": [],
   "source": []
  },
  {
   "cell_type": "code",
   "execution_count": null,
   "id": "9ec58198",
   "metadata": {},
   "outputs": [],
   "source": []
  },
  {
   "cell_type": "code",
   "execution_count": null,
   "id": "1d999e4b",
   "metadata": {},
   "outputs": [],
   "source": []
  },
  {
   "cell_type": "code",
   "execution_count": null,
   "id": "66b76080",
   "metadata": {},
   "outputs": [],
   "source": []
  },
  {
   "cell_type": "code",
   "execution_count": null,
   "id": "5436b362",
   "metadata": {},
   "outputs": [],
   "source": []
  }
 ],
 "metadata": {
  "kernelspec": {
   "display_name": "Python 3 (ipykernel)",
   "language": "python",
   "name": "python3"
  },
  "language_info": {
   "codemirror_mode": {
    "name": "ipython",
    "version": 3
   },
   "file_extension": ".py",
   "mimetype": "text/x-python",
   "name": "python",
   "nbconvert_exporter": "python",
   "pygments_lexer": "ipython3",
   "version": "3.11.5"
  }
 },
 "nbformat": 4,
 "nbformat_minor": 5
}
