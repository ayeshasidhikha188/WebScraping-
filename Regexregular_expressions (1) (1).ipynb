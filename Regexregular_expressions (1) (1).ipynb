{
 "cells": [
  {
   "cell_type": "code",
   "execution_count": 1,
   "id": "9cf2c97e",
   "metadata": {},
   "outputs": [],
   "source": [
    "import regex as re"
   ]
  },
  {
   "cell_type": "code",
   "execution_count": 5,
   "id": "af2f499c",
   "metadata": {},
   "outputs": [],
   "source": [
    "x = '''\n",
    "    This is a Multilinestring \n",
    "\n",
    "    ABCDEFGHIJKLMNOPQRSTUVWXYZ\n",
    "\n",
    "    abcdefghijklmnopqrstuvwxyz\n",
    "\n",
    "    1234567890\n",
    "    a1b2c3\n",
    "\n",
    "\n",
    "    !@#$%^&*()\n",
    "\n",
    "\n",
    "    '''"
   ]
  },
  {
   "cell_type": "code",
   "execution_count": 6,
   "id": "570dbfd8",
   "metadata": {},
   "outputs": [
    {
     "data": {
      "text/plain": [
       "True"
      ]
     },
     "execution_count": 6,
     "metadata": {},
     "output_type": "execute_result"
    }
   ],
   "source": [
    "'abc' in x"
   ]
  },
  {
   "cell_type": "code",
   "execution_count": 7,
   "id": "2291cdd6",
   "metadata": {},
   "outputs": [
    {
     "data": {
      "text/plain": [
       "69"
      ]
     },
     "execution_count": 7,
     "metadata": {},
     "output_type": "execute_result"
    }
   ],
   "source": [
    "x.find('abc')"
   ]
  },
  {
   "cell_type": "code",
   "execution_count": 8,
   "id": "af5f3723",
   "metadata": {},
   "outputs": [
    {
     "data": {
      "text/plain": [
       "'g[int][int][int]'"
      ]
     },
     "execution_count": 8,
     "metadata": {},
     "output_type": "execute_result"
    }
   ],
   "source": [
    "'g[int][int][int]'"
   ]
  },
  {
   "cell_type": "code",
   "execution_count": 10,
   "id": "7eae72f2",
   "metadata": {},
   "outputs": [],
   "source": [
    "a = 'g12b3454 g78t'\n",
    "b = 'ghjsdfbhksfdahg456'"
   ]
  },
  {
   "cell_type": "code",
   "execution_count": 14,
   "id": "df64b2a4",
   "metadata": {},
   "outputs": [
    {
     "data": {
      "text/plain": [
       "<regex.Match object; span=(13, 13), match='', partial=True>"
      ]
     },
     "execution_count": 14,
     "metadata": {},
     "output_type": "execute_result"
    }
   ],
   "source": [
    "re.search(r'g[0-9][0-9][0-9]',a, partial = True)"
   ]
  },
  {
   "cell_type": "code",
   "execution_count": 15,
   "id": "d53f8fa9",
   "metadata": {},
   "outputs": [
    {
     "data": {
      "text/plain": [
       "<regex.Match object; span=(14, 18), match='g456'>"
      ]
     },
     "execution_count": 15,
     "metadata": {},
     "output_type": "execute_result"
    }
   ],
   "source": [
    "re.search(r'g[0-9][0-9][0-9]',b, partial = False)"
   ]
  },
  {
   "cell_type": "code",
   "execution_count": 12,
   "id": "34c30f3a",
   "metadata": {},
   "outputs": [
    {
     "name": "stdout",
     "output_type": "stream",
     "text": [
      "Help on function search in module regex.regex:\n",
      "\n",
      "search(pattern, string, flags=0, pos=None, endpos=None, partial=False, concurrent=None, timeout=None, ignore_unused=False, **kwargs)\n",
      "    Search through string looking for a match to the pattern, returning a\n",
      "    match object, or None if no match was found.\n",
      "\n"
     ]
    }
   ],
   "source": [
    "help(re.search)"
   ]
  },
  {
   "cell_type": "code",
   "execution_count": 44,
   "id": "8d039d13",
   "metadata": {},
   "outputs": [],
   "source": [
    "x = re.search(r'g[0-9][0-9][0-9]',b)"
   ]
  },
  {
   "cell_type": "code",
   "execution_count": 17,
   "id": "f7bb29aa",
   "metadata": {},
   "outputs": [
    {
     "data": {
      "text/plain": [
       "(14, 18)"
      ]
     },
     "execution_count": 17,
     "metadata": {},
     "output_type": "execute_result"
    }
   ],
   "source": [
    "x.span()"
   ]
  },
  {
   "cell_type": "code",
   "execution_count": 18,
   "id": "01c2d896",
   "metadata": {},
   "outputs": [
    {
     "data": {
      "text/plain": [
       "'g456'"
      ]
     },
     "execution_count": 18,
     "metadata": {},
     "output_type": "execute_result"
    }
   ],
   "source": [
    "x.group()"
   ]
  },
  {
   "cell_type": "code",
   "execution_count": 47,
   "id": "2ca5b15e",
   "metadata": {},
   "outputs": [
    {
     "data": {
      "text/plain": [
       "14"
      ]
     },
     "execution_count": 47,
     "metadata": {},
     "output_type": "execute_result"
    }
   ],
   "source": [
    "x.start()"
   ]
  },
  {
   "cell_type": "code",
   "execution_count": 48,
   "id": "047bf388",
   "metadata": {},
   "outputs": [
    {
     "data": {
      "text/plain": [
       "18"
      ]
     },
     "execution_count": 48,
     "metadata": {},
     "output_type": "execute_result"
    }
   ],
   "source": [
    "x.end()"
   ]
  },
  {
   "cell_type": "code",
   "execution_count": 19,
   "id": "f04dc671",
   "metadata": {},
   "outputs": [
    {
     "data": {
      "text/plain": [
       "<regex.Match object; span=(3, 7), match='ing['>"
      ]
     },
     "execution_count": 19,
     "metadata": {},
     "output_type": "execute_result"
    }
   ],
   "source": [
    "s = 'string[123]'\n",
    "re.search(r'ing\\[', s) # escape character \\["
   ]
  },
  {
   "cell_type": "code",
   "execution_count": 20,
   "id": "806de107",
   "metadata": {},
   "outputs": [
    {
     "data": {
      "text/plain": [
       "<regex.Match object; span=(3, 7), match='ing['>"
      ]
     },
     "execution_count": 20,
     "metadata": {},
     "output_type": "execute_result"
    }
   ],
   "source": [
    "s = 'string[]123]'\n",
    "re.search(r'ing\\[', s)"
   ]
  },
  {
   "cell_type": "code",
   "execution_count": 25,
   "id": "70ae98be",
   "metadata": {},
   "outputs": [],
   "source": [
    "s = 's  tring[]123]'\n",
    "re.search(r's\\ttring\\[', s)"
   ]
  },
  {
   "cell_type": "code",
   "execution_count": 26,
   "id": "c8984663",
   "metadata": {},
   "outputs": [
    {
     "name": "stdout",
     "output_type": "stream",
     "text": [
      "s\ttring\n"
     ]
    }
   ],
   "source": [
    "print('s\\ttring')"
   ]
  },
  {
   "cell_type": "code",
   "execution_count": 29,
   "id": "1a346e1a",
   "metadata": {},
   "outputs": [],
   "source": [
    "x = '''\n",
    "Hi,\n",
    "how are you?\n",
    "'''"
   ]
  },
  {
   "cell_type": "code",
   "execution_count": 32,
   "id": "0ba87ba7",
   "metadata": {},
   "outputs": [
    {
     "data": {
      "text/plain": [
       "<regex.Match object; span=(3, 5), match=',\\n'>"
      ]
     },
     "execution_count": 32,
     "metadata": {},
     "output_type": "execute_result"
    }
   ],
   "source": [
    "re.search(r',\\n', x)"
   ]
  },
  {
   "cell_type": "code",
   "execution_count": 34,
   "id": "1481f7a9",
   "metadata": {},
   "outputs": [
    {
     "data": {
      "text/plain": [
       "<regex.Match object; span=(0, 5), match='s    '>"
      ]
     },
     "execution_count": 34,
     "metadata": {},
     "output_type": "execute_result"
    }
   ],
   "source": [
    "re.search(r's\\s\\s\\s\\s', 's    tring')"
   ]
  },
  {
   "cell_type": "code",
   "execution_count": 40,
   "id": "195c044e",
   "metadata": {},
   "outputs": [
    {
     "data": {
      "text/plain": [
       "<regex.Match object; span=(0, 5), match='s    '>"
      ]
     },
     "execution_count": 40,
     "metadata": {},
     "output_type": "execute_result"
    }
   ],
   "source": [
    "re.search(r's\\s{4}', 's    tring')"
   ]
  },
  {
   "cell_type": "code",
   "execution_count": 41,
   "id": "a70ad352",
   "metadata": {},
   "outputs": [
    {
     "data": {
      "text/plain": [
       "<regex.Match object; span=(0, 5), match='s    '>"
      ]
     },
     "execution_count": 41,
     "metadata": {},
     "output_type": "execute_result"
    }
   ],
   "source": [
    "re.search(r's\\s*', 's    tring')"
   ]
  },
  {
   "cell_type": "code",
   "execution_count": 42,
   "id": "ddc5a0d0",
   "metadata": {},
   "outputs": [
    {
     "data": {
      "text/plain": [
       "<regex.Match object; span=(0, 3), match='s  '>"
      ]
     },
     "execution_count": 42,
     "metadata": {},
     "output_type": "execute_result"
    }
   ],
   "source": [
    "re.search(r's\\s.', 's    tring')"
   ]
  },
  {
   "cell_type": "code",
   "execution_count": null,
   "id": "77f79cee",
   "metadata": {},
   "outputs": [],
   "source": [
    "# [] ---> character set"
   ]
  },
  {
   "cell_type": "code",
   "execution_count": 51,
   "id": "8bdb327f",
   "metadata": {},
   "outputs": [
    {
     "data": {
      "text/plain": [
       "<regex.Match object; span=(0, 1), match='s'>"
      ]
     },
     "execution_count": 51,
     "metadata": {},
     "output_type": "execute_result"
    }
   ],
   "source": [
    "#^\n",
    "re.search(r'^s', 'string123 string')"
   ]
  },
  {
   "cell_type": "code",
   "execution_count": 52,
   "id": "35d0ce57",
   "metadata": {},
   "outputs": [
    {
     "data": {
      "text/plain": [
       "<regex.Match object; span=(0, 3), match='str'>"
      ]
     },
     "execution_count": 52,
     "metadata": {},
     "output_type": "execute_result"
    }
   ],
   "source": [
    "re.search(r'^str', 'string123 string')"
   ]
  },
  {
   "cell_type": "code",
   "execution_count": 54,
   "id": "37f5d152",
   "metadata": {},
   "outputs": [],
   "source": [
    "re.search(r'^str', 'tring123 string') # it returns none means no value (s is removed )"
   ]
  },
  {
   "cell_type": "code",
   "execution_count": 55,
   "id": "1b6f557a",
   "metadata": {},
   "outputs": [
    {
     "data": {
      "text/plain": [
       "<regex.Match object; span=(5, 7), match='sa'>"
      ]
     },
     "execution_count": 55,
     "metadata": {},
     "output_type": "execute_result"
    }
   ],
   "source": [
    "re.search(r's[^0-9]' , 's123 sabc')"
   ]
  },
  {
   "cell_type": "code",
   "execution_count": 58,
   "id": "22989a08",
   "metadata": {},
   "outputs": [
    {
     "data": {
      "text/plain": [
       "<regex.Match object; span=(0, 2), match='s^'>"
      ]
     },
     "execution_count": 58,
     "metadata": {},
     "output_type": "execute_result"
    }
   ],
   "source": [
    "re.search(r's[0^9]' , 's^123 sabc') "
   ]
  },
  {
   "cell_type": "code",
   "execution_count": 59,
   "id": "4960fd7b",
   "metadata": {},
   "outputs": [
    {
     "data": {
      "text/plain": [
       "<regex.Match object; span=(0, 2), match='s1'>"
      ]
     },
     "execution_count": 59,
     "metadata": {},
     "output_type": "execute_result"
    }
   ],
   "source": [
    "re.search(r's[^9]' , 's123 sabc')"
   ]
  },
  {
   "cell_type": "code",
   "execution_count": 60,
   "id": "fab63da2",
   "metadata": {},
   "outputs": [
    {
     "data": {
      "text/plain": [
       "<regex.Match object; span=(5, 9), match='sabc'>"
      ]
     },
     "execution_count": 60,
     "metadata": {},
     "output_type": "execute_result"
    }
   ],
   "source": [
    "re.search(r's[^0-9]{3}' , 's123 sabc') "
   ]
  },
  {
   "cell_type": "code",
   "execution_count": 61,
   "id": "3d8e38d2",
   "metadata": {},
   "outputs": [
    {
     "data": {
      "text/plain": [
       "<regex.Match object; span=(5, 8), match='sab'>"
      ]
     },
     "execution_count": 61,
     "metadata": {},
     "output_type": "execute_result"
    }
   ],
   "source": [
    "re.search(r's[^0-9]{2}' , 's123 sabc') # by using {}it gives the values "
   ]
  },
  {
   "cell_type": "code",
   "execution_count": 64,
   "id": "49be3a81",
   "metadata": {},
   "outputs": [
    {
     "data": {
      "text/plain": [
       "<regex.Match object; span=(6, 10), match='2024'>"
      ]
     },
     "execution_count": 64,
     "metadata": {},
     "output_type": "execute_result"
    }
   ],
   "source": [
    "re.search(r'[^A-Za-z!@##$%(_)\\-]{4}', '02-02-2024')"
   ]
  },
  {
   "cell_type": "code",
   "execution_count": 65,
   "id": "252c5556",
   "metadata": {},
   "outputs": [
    {
     "data": {
      "text/plain": [
       "<regex.Match object; span=(0, 1), match='0'>"
      ]
     },
     "execution_count": 65,
     "metadata": {},
     "output_type": "execute_result"
    }
   ],
   "source": [
    "re.search(r'[^A-Za-z!@##$%(_)\\-]', '02-02-2024')"
   ]
  },
  {
   "cell_type": "code",
   "execution_count": 66,
   "id": "8086dd70",
   "metadata": {},
   "outputs": [
    {
     "data": {
      "text/plain": [
       "<regex.Match object; span=(9, 13), match='2024'>"
      ]
     },
     "execution_count": 66,
     "metadata": {},
     "output_type": "execute_result"
    }
   ],
   "source": [
    "re.search(r'[^A-Za-z!@##$%(_)\\-]{4}', 'Ab@02-02-2024')"
   ]
  },
  {
   "cell_type": "code",
   "execution_count": 68,
   "id": "0274bacc",
   "metadata": {},
   "outputs": [
    {
     "data": {
      "text/plain": [
       "<regex.Match object; span=(0, 2), match='02'>"
      ]
     },
     "execution_count": 68,
     "metadata": {},
     "output_type": "execute_result"
    }
   ],
   "source": [
    "re.search(r'[^A-Za-z!@##$%(_)\\-]{2}', '02-02-2024')"
   ]
  },
  {
   "cell_type": "code",
   "execution_count": 72,
   "id": "ec98a5f6",
   "metadata": {},
   "outputs": [
    {
     "data": {
      "text/plain": [
       "<regex.Match object; span=(0, 1), match='4'>"
      ]
     },
     "execution_count": 72,
     "metadata": {},
     "output_type": "execute_result"
    }
   ],
   "source": [
    "re.search(r'^[0-9]', '4Ab@02-02-2024')"
   ]
  },
  {
   "cell_type": "code",
   "execution_count": null,
   "id": "14fc25a6",
   "metadata": {},
   "outputs": [],
   "source": []
  }
 ],
 "metadata": {
  "kernelspec": {
   "display_name": "Python 3 (ipykernel)",
   "language": "python",
   "name": "python3"
  },
  "language_info": {
   "codemirror_mode": {
    "name": "ipython",
    "version": 3
   },
   "file_extension": ".py",
   "mimetype": "text/x-python",
   "name": "python",
   "nbconvert_exporter": "python",
   "pygments_lexer": "ipython3",
   "version": "3.11.5"
  }
 },
 "nbformat": 4,
 "nbformat_minor": 5
}
